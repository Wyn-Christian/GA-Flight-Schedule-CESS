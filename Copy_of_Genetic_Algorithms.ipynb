{
 "cells": [
  {
   "cell_type": "markdown",
   "metadata": {
    "id": "zfA7vABEdwVs"
   },
   "source": [
    "# Genetic algorithms"
   ]
  },
  {
   "cell_type": "markdown",
   "metadata": {
    "id": "l_0w2n7JdzVo"
   },
   "source": [
    "# Product class"
   ]
  },
  {
   "cell_type": "code",
   "execution_count": null,
   "metadata": {
    "id": "SUGxd6R7Ssb3"
   },
   "outputs": [],
   "source": [
    "class Product():\n",
    "  def __init__(self, name, space, price):\n",
    "    self.name = name\n",
    "    self.space = space\n",
    "    self.price = price"
   ]
  },
  {
   "cell_type": "code",
   "execution_count": null,
   "metadata": {
    "id": "Tp9-fMhYTm8w"
   },
   "outputs": [],
   "source": [
    "p1 = Product('Refrigerator A', 0.751, 999.9)"
   ]
  },
  {
   "cell_type": "code",
   "execution_count": null,
   "metadata": {
    "colab": {
     "base_uri": "https://localhost:8080/"
    },
    "id": "2iQUNo1FUUFY",
    "outputId": "c93caecf-921b-44f5-f23b-1d6b3aab182d"
   },
   "outputs": [],
   "source": [
    "p1.name, p1.space, p1.price"
   ]
  },
  {
   "cell_type": "code",
   "execution_count": null,
   "metadata": {
    "id": "zPd3bhTSUpYb"
   },
   "outputs": [],
   "source": [
    "p2 = Product('Cell phone', 0.00000899, 2199.12)"
   ]
  },
  {
   "cell_type": "code",
   "execution_count": null,
   "metadata": {
    "colab": {
     "base_uri": "https://localhost:8080/"
    },
    "id": "kpnAjmfPU4rl",
    "outputId": "54c50cd5-a968-4cc1-d9c2-0ca0427ef9f7"
   },
   "outputs": [],
   "source": [
    "p2.name, p2.space, p2.price"
   ]
  },
  {
   "cell_type": "code",
   "execution_count": null,
   "metadata": {
    "id": "bDqNX7pUVJab"
   },
   "outputs": [],
   "source": [
    "products_list = []\n",
    "products_list.append(Product('Refrigerator A', 0.751, 999.90))\n",
    "products_list.append(Product('Cell phone', 0.00000899, 2199.12))\n",
    "products_list.append(Product('TV 55', 0.400, 4346.99))\n",
    "products_list.append(Product(\"TV 50' \", 0.290, 3999.90))\n",
    "products_list.append(Product(\"TV 42' \", 0.200, 2999.00))\n",
    "products_list.append(Product(\"Notebook A\", 0.00350, 2499.90))\n",
    "products_list.append(Product(\"Ventilator\", 0.496, 199.90))\n",
    "products_list.append(Product(\"Microwave A\", 0.0424, 308.66))\n",
    "products_list.append(Product(\"Microwave B\", 0.0544, 429.90))\n",
    "products_list.append(Product(\"Microwave C\", 0.0319, 299.29))\n",
    "products_list.append(Product(\"Refrigerator B\", 0.635, 849.00))\n",
    "products_list.append(Product(\"Refrigerator C\", 0.870, 1199.89))\n",
    "products_list.append(Product(\"Notebook B\", 0.498, 1999.90))\n",
    "products_list.append(Product(\"Notebook C\", 0.527, 3999.00))"
   ]
  },
  {
   "cell_type": "code",
   "execution_count": null,
   "metadata": {
    "colab": {
     "base_uri": "https://localhost:8080/"
    },
    "id": "4SWtAMcpVs55",
    "outputId": "74ddd763-033b-4fcd-f916-2ebf90e287b1"
   },
   "outputs": [],
   "source": [
    "for product in products_list:\n",
    "  print(product.name, ' - ', product.price, ' - ', product.space)"
   ]
  },
  {
   "cell_type": "markdown",
   "metadata": {
    "id": "BB7Y3hTzhP5t"
   },
   "source": [
    "# Individual class"
   ]
  },
  {
   "cell_type": "code",
   "execution_count": null,
   "metadata": {
    "id": "h3ZS8c4ckPpe"
   },
   "outputs": [],
   "source": [
    "from random import random"
   ]
  },
  {
   "cell_type": "code",
   "execution_count": null,
   "metadata": {
    "colab": {
     "base_uri": "https://localhost:8080/"
    },
    "id": "PNoFhToEkSSy",
    "outputId": "b7d16b5d-1e07-45c3-da76-03d4f9db14b2"
   },
   "outputs": [],
   "source": [
    "random()"
   ]
  },
  {
   "cell_type": "code",
   "execution_count": null,
   "metadata": {
    "id": "kdwdPe27kJh3"
   },
   "outputs": [],
   "source": [
    "class Individual():\n",
    "  def __init__(self, spaces, prices, space_limit, generation=0):\n",
    "    self.spaces = spaces\n",
    "    self.prices = prices\n",
    "    self.space_limit = space_limit\n",
    "    self.score_evaluation = 0\n",
    "    self.used_space = 0\n",
    "    self.generation = generation\n",
    "    self.chromosome = []\n",
    "\n",
    "    for i in range(len(spaces)):\n",
    "      if random() < 0.5:\n",
    "        self.chromosome.append('0')\n",
    "      else:\n",
    "        self.chromosome.append('1')\n",
    "\n",
    "  def fitness(self):\n",
    "    score = 0\n",
    "    sum_spaces = 0\n",
    "    for i in range(len(self.chromosome)):\n",
    "      if self.chromosome[i] == '1':\n",
    "        score += self.prices[i]\n",
    "        sum_spaces += self.spaces[i]\n",
    "    if sum_spaces > self.space_limit:\n",
    "      score = 1\n",
    "    self.score_evaluation = score\n",
    "    self.used_space = sum_spaces\n",
    "\n",
    "  def crossover(self, other_individual):\n",
    "    cutoff = round(random() * len(self.chromosome))\n",
    "    #print(cutoff)\n",
    "\n",
    "    child1 = other_individual.chromosome[0:cutoff] + self.chromosome[cutoff::]\n",
    "    child2 = self.chromosome[0:cutoff] + other_individual.chromosome[cutoff::]\n",
    "    #print(child1)\n",
    "    #print(child2)\n",
    "    children = [Individual(self.spaces, self.prices, self.space_limit, self.generation + 1),\n",
    "                Individual(self.spaces, self.prices, self.space_limit, self.generation + 1)]\n",
    "    children[0].chromosome = child1\n",
    "    children[1].chromosome = child2\n",
    "    return children\n",
    "\n",
    "  def mutation(self, rate):\n",
    "    #print('Before:', self.chromosome)\n",
    "    for i in range(len(self.chromosome)):\n",
    "      if random() < rate:\n",
    "        if self.chromosome[i] == '1':\n",
    "          self.chromosome[i] = '0'\n",
    "        else:\n",
    "          self.chromosome[i] = '1'\n",
    "    #print('After: ', self.chromosome)\n",
    "    return self"
   ]
  },
  {
   "cell_type": "code",
   "execution_count": null,
   "metadata": {
    "colab": {
     "base_uri": "https://localhost:8080/"
    },
    "id": "Ah1BqM1kjpDX",
    "outputId": "2aa55aa8-feca-4c46-be1b-88d800d6cc27"
   },
   "outputs": [],
   "source": [
    "0.01"
   ]
  },
  {
   "cell_type": "code",
   "execution_count": null,
   "metadata": {
    "colab": {
     "base_uri": "https://localhost:8080/"
    },
    "id": "Z8bIsum_jqcU",
    "outputId": "19c8feb9-1f69-4b96-9cb2-5b36067c3f8a"
   },
   "outputs": [],
   "source": [
    "random()"
   ]
  },
  {
   "cell_type": "markdown",
   "metadata": {
    "id": "JNMT0eTHmUR4"
   },
   "source": [
    "# Genectic Algorithm class"
   ]
  },
  {
   "cell_type": "code",
   "execution_count": null,
   "metadata": {
    "id": "h0qDsZwmndl2"
   },
   "outputs": [],
   "source": [
    "class GeneticAlgorithm():\n",
    "  def __init__(self, population_size):\n",
    "    self.population_size = population_size\n",
    "    self.population = []\n",
    "    self.generation = 0\n",
    "    self.best_solution = None\n",
    "    self.list_of_solutions = []\n",
    "\n",
    "  def initialize_population(self, spaces, prices, space_limit):\n",
    "    for i in range(self.population_size):\n",
    "      self.population.append(Individual(spaces, prices, space_limit))\n",
    "    self.best_solution = self.population[0]\n",
    "\n",
    "  def order_population(self):\n",
    "    self.population = sorted(self.population, key=lambda population: population.score_evaluation, reverse=True)\n",
    "\n",
    "  def best_individual(self, individual):\n",
    "    if individual.score_evaluation > self.best_solution.score_evaluation:\n",
    "      self.best_solution = individual\n",
    "\n",
    "  def sum_evaluations(self):\n",
    "    sum = 0\n",
    "    for individual in self.population:\n",
    "      sum += individual.score_evaluation\n",
    "    return sum\n",
    "\n",
    "  def select_parent(self, sum_evaluation):\n",
    "    parent = -1\n",
    "    random_value = random() * sum_evaluation\n",
    "    sum = 0\n",
    "    i = 0\n",
    "    #print('*** random value:', random_value)\n",
    "    while i < len(self.population) and sum < random_value:\n",
    "      #print('i:', i, ' - sum: ', sum)\n",
    "      sum += self.population[i].score_evaluation\n",
    "      parent += 1\n",
    "      i += 1\n",
    "    return parent\n",
    "\n",
    "  def visualize_generation(self):\n",
    "    best = self.population[0]\n",
    "    print('Generation: ', self.population[0].generation,\n",
    "          'Total price: ', best.score_evaluation,\n",
    "          'Space: ', best.used_space,\n",
    "          'Chromosome: ', best.chromosome)\n",
    "\n",
    "  def solve(self, mutation_probability, number_of_generations, spaces, prices, limit):\n",
    "    self.initialize_population(spaces, prices, limit)\n",
    "\n",
    "    for individual in self.population:\n",
    "      individual.fitness()\n",
    "    self.order_population()\n",
    "    self.best_solution = self.population[0]\n",
    "    self.list_of_solutions.append(self.best_solution.score_evaluation)\n",
    "\n",
    "    self.visualize_generation()\n",
    "\n",
    "    for generation in range(number_of_generations):\n",
    "      sum = self.sum_evaluations()\n",
    "      new_population = []\n",
    "      for new_individuals in range(0, self.population_size, 2):\n",
    "        parent1 = self.select_parent(sum)\n",
    "        parent2 = self.select_parent(sum)\n",
    "        children = self.population[parent1].crossover(self.population[parent2])\n",
    "        new_population.append(children[0].mutation(mutation_probability))\n",
    "        new_population.append(children[1].mutation(mutation_probability))\n",
    "\n",
    "      self.population = list(new_population)\n",
    "\n",
    "      for individual in self.population:\n",
    "        individual.fitness()\n",
    "      self.order_population() # We forgot to add this line of code while recording the video lesson. Thank you Tamur for letting us know!\n",
    "      self.visualize_generation()\n",
    "      best = self.population[0]\n",
    "      self.list_of_solutions.append(best.score_evaluation)\n",
    "      self.best_individual(best)\n",
    "\n",
    "    print('**** Best solution - Generation: ', self.best_solution.generation,\n",
    "          'Total price: ', self.best_solution.score_evaluation, 'Space: ', self.best_solution.used_space,\n",
    "          'Chromosome: ', self.best_solution.chromosome)\n",
    "\n",
    "    return self.best_solution.chromosome"
   ]
  },
  {
   "cell_type": "markdown",
   "metadata": {
    "id": "KpUVlN_d-yQ9"
   },
   "source": [
    "# Testing the code"
   ]
  },
  {
   "cell_type": "code",
   "execution_count": null,
   "metadata": {
    "colab": {
     "base_uri": "https://localhost:8080/"
    },
    "id": "JijkmDD4zPB-",
    "outputId": "8477d56e-58bf-4d2b-d8e4-b7f5e6789278"
   },
   "outputs": [],
   "source": [
    "round(random() * 14)"
   ]
  },
  {
   "cell_type": "code",
   "execution_count": null,
   "metadata": {
    "id": "WpckOiNXkz8_"
   },
   "outputs": [],
   "source": [
    "spaces = []\n",
    "prices = []\n",
    "names = []\n",
    "for product in products_list:\n",
    "  spaces.append(product.space)\n",
    "  prices.append(product.price)\n",
    "  names.append(product.name)\n",
    "limit = 3"
   ]
  },
  {
   "cell_type": "code",
   "execution_count": null,
   "metadata": {
    "colab": {
     "base_uri": "https://localhost:8080/"
    },
    "id": "y1e-9oXZlPlu",
    "outputId": "5530a73e-95bc-497f-c83c-a4fcc2170661"
   },
   "outputs": [],
   "source": [
    "print(spaces)"
   ]
  },
  {
   "cell_type": "code",
   "execution_count": null,
   "metadata": {
    "colab": {
     "base_uri": "https://localhost:8080/"
    },
    "id": "W0itRVv0lSJA",
    "outputId": "77c87846-4790-4e44-ed4e-5b6ed84333ce"
   },
   "outputs": [],
   "source": [
    "print(prices)"
   ]
  },
  {
   "cell_type": "code",
   "execution_count": null,
   "metadata": {
    "colab": {
     "base_uri": "https://localhost:8080/"
    },
    "id": "uNp1OF89lUra",
    "outputId": "15e6cece-d3e0-4eb4-f8fd-1452e1ab6eb8"
   },
   "outputs": [],
   "source": [
    "print(names)"
   ]
  },
  {
   "cell_type": "code",
   "execution_count": null,
   "metadata": {
    "colab": {
     "base_uri": "https://localhost:8080/"
    },
    "id": "Znw146uIl9AG",
    "outputId": "9acad976-a2d0-495e-db20-ee48b7e46151"
   },
   "outputs": [],
   "source": [
    "len(spaces)"
   ]
  },
  {
   "cell_type": "code",
   "execution_count": null,
   "metadata": {
    "colab": {
     "base_uri": "https://localhost:8080/"
    },
    "id": "ftK2kcbblY7P",
    "outputId": "7f169e89-c471-4fbb-d38c-882ea7db1fc8"
   },
   "outputs": [],
   "source": [
    "names[5], prices[5], spaces[5]"
   ]
  },
  {
   "cell_type": "code",
   "execution_count": null,
   "metadata": {
    "colab": {
     "base_uri": "https://localhost:8080/"
    },
    "id": "qnN6TbEnlmOL",
    "outputId": "3c91eb70-ecbd-4b3b-e57e-f49e49102062"
   },
   "outputs": [],
   "source": [
    "individual1 = Individual(spaces, prices, limit)\n",
    "#print('Spaces: ', individual1.spaces)\n",
    "#print('Prices: ', individual1.prices)\n",
    "#print('Chromosome: ', individual1.chromosome)\n",
    "for i in range(len(products_list)):\n",
    "  #print(individual1.chromosome[i])\n",
    "  if individual1.chromosome[i] == '1':\n",
    "    print('Name: ', products_list[i].name)\n",
    "individual1.fitness()\n",
    "print('Score: ', individual1.score_evaluation)\n",
    "print('Used space: ', individual1.used_space)\n",
    "print('Chromosome: ', individual1.chromosome)"
   ]
  },
  {
   "cell_type": "code",
   "execution_count": null,
   "metadata": {
    "colab": {
     "base_uri": "https://localhost:8080/"
    },
    "id": "ojYGN8T8yD-b",
    "outputId": "78fb0cda-4d3c-42c2-bc93-6b1577885701"
   },
   "outputs": [],
   "source": [
    "individual2 = Individual(spaces, prices, limit)\n",
    "#print('Spaces: ', individual1.spaces)\n",
    "#print('Prices: ', individual1.prices)\n",
    "#print('Chromosome: ', individual1.chromosome)\n",
    "for i in range(len(products_list)):\n",
    "  #print(individual1.chromosome[i])\n",
    "  if individual2.chromosome[i] == '1':\n",
    "    print('Name: ', products_list[i].name)\n",
    "individual2.fitness()\n",
    "print('Score: ', individual2.score_evaluation)\n",
    "print('Used space: ', individual2.used_space)\n",
    "print('Chromosome: ', individual2.chromosome)"
   ]
  },
  {
   "cell_type": "code",
   "execution_count": null,
   "metadata": {
    "id": "qHs0k3vX1d2Q"
   },
   "outputs": [],
   "source": [
    "children = individual1.crossover(individual2)"
   ]
  },
  {
   "cell_type": "code",
   "execution_count": null,
   "metadata": {
    "colab": {
     "base_uri": "https://localhost:8080/"
    },
    "id": "C8hQja0G3Tzx",
    "outputId": "7c5cbd85-6704-434f-c8fb-36093ef5a4ff"
   },
   "outputs": [],
   "source": [
    "children[0].fitness()\n",
    "print(children[0].score_evaluation)\n",
    "print(children[0].chromosome)"
   ]
  },
  {
   "cell_type": "code",
   "execution_count": null,
   "metadata": {
    "colab": {
     "base_uri": "https://localhost:8080/"
    },
    "id": "lAqv9tW14X0f",
    "outputId": "10ebf1ad-6f8c-4bec-9b92-19d95f944c81"
   },
   "outputs": [],
   "source": [
    "children[1].fitness()\n",
    "print(children[1].score_evaluation)\n",
    "print(children[1].chromosome)"
   ]
  },
  {
   "cell_type": "code",
   "execution_count": null,
   "metadata": {
    "colab": {
     "base_uri": "https://localhost:8080/"
    },
    "id": "P-6qmK2VkfXz",
    "outputId": "e145df9d-952b-480a-8471-56d347c6df7b"
   },
   "outputs": [],
   "source": [
    "individual1.mutation(0.01)"
   ]
  },
  {
   "cell_type": "code",
   "execution_count": null,
   "metadata": {
    "id": "goKw19i4pF5f"
   },
   "outputs": [],
   "source": [
    "population_size = 20\n",
    "ga = GeneticAlgorithm(population_size)\n",
    "ga.initialize_population(spaces, prices, limit)"
   ]
  },
  {
   "cell_type": "code",
   "execution_count": null,
   "metadata": {
    "colab": {
     "base_uri": "https://localhost:8080/"
    },
    "id": "pC-YNvEUpaUb",
    "outputId": "780da98f-6f29-47bc-cc02-b1e75c832af3"
   },
   "outputs": [],
   "source": [
    "len(ga.population)"
   ]
  },
  {
   "cell_type": "code",
   "execution_count": null,
   "metadata": {
    "colab": {
     "base_uri": "https://localhost:8080/"
    },
    "id": "EZc7-Eyipj2e",
    "outputId": "ebdd9c39-dbf2-4b1a-fe31-2bb2d2c6c869"
   },
   "outputs": [],
   "source": [
    "ga.population[0].chromosome"
   ]
  },
  {
   "cell_type": "code",
   "execution_count": null,
   "metadata": {
    "colab": {
     "base_uri": "https://localhost:8080/"
    },
    "id": "g2NdJHuJpru_",
    "outputId": "d7594e0d-a2a7-42d0-970c-faebd3f6f357"
   },
   "outputs": [],
   "source": [
    "ga.population[1].chromosome"
   ]
  },
  {
   "cell_type": "code",
   "execution_count": null,
   "metadata": {
    "colab": {
     "base_uri": "https://localhost:8080/"
    },
    "id": "uMBl-vn_MLQx",
    "outputId": "66fc92bc-00e5-41de-bd2c-ea0f0028dc85"
   },
   "outputs": [],
   "source": [
    "for individual in ga.population:\n",
    "  individual.fitness()\n",
    "ga.order_population()\n",
    "for i in range(ga.population_size):\n",
    "  print('Individual: ', i, '\\nSpaces: ', ga.population[i].spaces, '\\nPrices: ', ga.population[i].prices,\n",
    "        '\\nChromosome: ', ga.population[i].chromosome, '\\nScore: ', ga.population[i].score_evaluation, '\\n')"
   ]
  },
  {
   "cell_type": "code",
   "execution_count": null,
   "metadata": {
    "colab": {
     "base_uri": "https://localhost:8080/"
    },
    "id": "dlWa8YOdSqNU",
    "outputId": "5e90bd86-0234-44b4-befb-e65fc5ff524e"
   },
   "outputs": [],
   "source": [
    "ga.best_solution.score_evaluation"
   ]
  },
  {
   "cell_type": "code",
   "execution_count": null,
   "metadata": {
    "colab": {
     "base_uri": "https://localhost:8080/"
    },
    "id": "1xAsh8QWS46R",
    "outputId": "008c67ca-d795-4753-ea29-d71698956d41"
   },
   "outputs": [],
   "source": [
    "ga.population[0].score_evaluation"
   ]
  },
  {
   "cell_type": "code",
   "execution_count": null,
   "metadata": {
    "id": "oa2O2UxOTB5H"
   },
   "outputs": [],
   "source": [
    "ga.best_individual(ga.population[0])"
   ]
  },
  {
   "cell_type": "code",
   "execution_count": null,
   "metadata": {
    "colab": {
     "base_uri": "https://localhost:8080/"
    },
    "id": "FSmKFJSiTKn7",
    "outputId": "802ac148-4dae-4783-faea-35c3114ed005"
   },
   "outputs": [],
   "source": [
    "ga.best_solution.score_evaluation"
   ]
  },
  {
   "cell_type": "code",
   "execution_count": null,
   "metadata": {
    "colab": {
     "base_uri": "https://localhost:8080/"
    },
    "id": "6yTXZoz-TYdv",
    "outputId": "11bb46ee-fd22-4389-e22e-e31cba6c48c6"
   },
   "outputs": [],
   "source": [
    "ga.best_solution.chromosome"
   ]
  },
  {
   "cell_type": "code",
   "execution_count": null,
   "metadata": {
    "colab": {
     "base_uri": "https://localhost:8080/"
    },
    "id": "XEjr-4e-VStp",
    "outputId": "4bdf62f5-8ca1-4afa-bb53-3e7ef94cc176"
   },
   "outputs": [],
   "source": [
    "sum = ga.sum_evaluations()\n",
    "print('Sum of evaluations: ', sum)"
   ]
  },
  {
   "cell_type": "code",
   "execution_count": null,
   "metadata": {
    "colab": {
     "base_uri": "https://localhost:8080/"
    },
    "id": "IMRAwHpDaRBs",
    "outputId": "df03450d-7bc2-44e3-8e0e-b3abcb1c0a2c"
   },
   "outputs": [],
   "source": [
    "random() * sum"
   ]
  },
  {
   "cell_type": "code",
   "execution_count": null,
   "metadata": {
    "colab": {
     "base_uri": "https://localhost:8080/"
    },
    "id": "69FZ2JR6b_j0",
    "outputId": "a0e0a9fc-29df-4d07-83ff-8327a09fc55d"
   },
   "outputs": [],
   "source": [
    "parent1 = ga.select_parent(sum)\n",
    "parent1"
   ]
  },
  {
   "cell_type": "code",
   "execution_count": null,
   "metadata": {
    "colab": {
     "base_uri": "https://localhost:8080/"
    },
    "id": "BVuqaTNVdthx",
    "outputId": "8d69822d-f4d4-4bd1-bf5a-26dbba5893ee"
   },
   "outputs": [],
   "source": [
    "parent2 = ga.select_parent(sum)\n",
    "parent2"
   ]
  },
  {
   "cell_type": "code",
   "execution_count": null,
   "metadata": {
    "colab": {
     "base_uri": "https://localhost:8080/"
    },
    "id": "RVjNdW2YgXxS",
    "outputId": "73ff1812-d402-49ba-c714-c3532ca9f6e2"
   },
   "outputs": [],
   "source": [
    "new_population = []\n",
    "mutation_probability = 0.01\n",
    "\n",
    "for new_individuals in range(0, ga.population_size, 2):\n",
    "  #print(new_individuals)\n",
    "  parent1 = ga.select_parent(sum)\n",
    "  parent2 = ga.select_parent(sum)\n",
    "  print('\\n', parent1, parent2)\n",
    "  children = ga.population[parent1].crossover(ga.population[parent2])\n",
    "  print(ga.population[parent1].chromosome)\n",
    "  print(ga.population[parent2].chromosome)\n",
    "  print(children[0].chromosome)\n",
    "  print(children[1].chromosome)\n",
    "\n",
    "  new_population.append(children[0].mutation(mutation_probability))\n",
    "  new_population.append(children[1].mutation(mutation_probability))"
   ]
  },
  {
   "cell_type": "markdown",
   "metadata": {
    "id": "G_ia0U1OsQ7R"
   },
   "source": [
    "# Putting all together"
   ]
  },
  {
   "cell_type": "code",
   "execution_count": 179,
   "metadata": {
    "colab": {
     "base_uri": "https://localhost:8080/"
    },
    "id": "oPz5to7bsS4-",
    "outputId": "b6e96375-e99c-46ab-c9c0-07e72f6008d0"
   },
   "outputs": [
    {
     "name": "stdout",
     "output_type": "stream",
     "text": [
      "Generation:  0 Total price:  20994.47 Space:  2.0118899 Chromosome:  ['0', '1', '1', '1', '1', '0', '0', '1', '1', '0', '0', '0', '1', '1']\n",
      "Generation:  1 Total price:  20994.47 Space:  2.0118899 Chromosome:  ['0', '1', '1', '1', '1', '0', '0', '1', '1', '0', '0', '0', '1', '1']\n",
      "Generation:  2 Total price:  20685.81 Space:  1.9694899000000001 Chromosome:  ['0', '1', '1', '1', '1', '0', '0', '0', '1', '0', '0', '0', '1', '1']\n",
      "Generation:  3 Total price:  20685.81 Space:  1.9694899000000001 Chromosome:  ['0', '1', '1', '1', '1', '0', '0', '0', '1', '0', '0', '0', '1', '1']\n",
      "Generation:  4 Total price:  20685.81 Space:  1.9694899000000001 Chromosome:  ['0', '1', '1', '1', '1', '0', '0', '0', '1', '0', '0', '0', '1', '1']\n",
      "Generation:  5 Total price:  20994.47 Space:  2.0118899 Chromosome:  ['0', '1', '1', '1', '1', '0', '0', '1', '1', '0', '0', '0', '1', '1']\n",
      "Generation:  6 Total price:  21843.47 Space:  2.6468899 Chromosome:  ['0', '1', '1', '1', '1', '0', '0', '1', '1', '0', '1', '0', '1', '1']\n",
      "Generation:  7 Total price:  21843.47 Space:  2.6468899 Chromosome:  ['0', '1', '1', '1', '1', '0', '0', '1', '1', '0', '1', '0', '1', '1']\n",
      "Generation:  8 Total price:  20994.47 Space:  2.0118899 Chromosome:  ['0', '1', '1', '1', '1', '0', '0', '1', '1', '0', '0', '0', '1', '1']\n",
      "Generation:  9 Total price:  21494.47 Space:  1.5173899 Chromosome:  ['0', '1', '1', '1', '1', '1', '0', '1', '1', '0', '0', '0', '0', '1']\n",
      "Generation:  10 Total price:  20764.47 Space:  2.4534899 Chromosome:  ['0', '1', '1', '1', '1', '0', '1', '1', '0', '0', '0', '0', '1', '1']\n",
      "Generation:  11 Total price:  20764.47 Space:  2.4534899 Chromosome:  ['0', '1', '1', '1', '1', '0', '1', '1', '0', '0', '0', '0', '1', '1']\n",
      "Generation:  12 Total price:  20685.81 Space:  1.9694899000000001 Chromosome:  ['0', '1', '1', '1', '1', '0', '0', '0', '1', '0', '0', '0', '1', '1']\n",
      "Generation:  13 Total price:  21564.47 Space:  2.7084899 Chromosome:  ['1', '1', '1', '1', '1', '0', '0', '1', '0', '0', '0', '0', '1', '1']\n",
      "Generation:  14 Total price:  21564.47 Space:  2.7084899 Chromosome:  ['1', '1', '1', '1', '1', '0', '0', '1', '0', '0', '0', '0', '1', '1']\n",
      "Generation:  15 Total price:  24494.270000000004 Space:  2.7663899 Chromosome:  ['1', '1', '1', '1', '1', '1', '0', '1', '1', '0', '0', '0', '1', '1']\n",
      "Generation:  16 Total price:  24494.270000000004 Space:  2.7663899 Chromosome:  ['1', '1', '1', '1', '1', '1', '0', '1', '1', '0', '0', '0', '1', '1']\n",
      "Generation:  17 Total price:  24494.270000000004 Space:  2.7663899 Chromosome:  ['1', '1', '1', '1', '1', '1', '0', '1', '1', '0', '0', '0', '1', '1']\n",
      "Generation:  18 Total price:  24494.270000000004 Space:  2.7663899 Chromosome:  ['1', '1', '1', '1', '1', '1', '0', '1', '1', '0', '0', '0', '1', '1']\n",
      "Generation:  19 Total price:  24494.270000000004 Space:  2.7663899 Chromosome:  ['1', '1', '1', '1', '1', '1', '0', '1', '1', '0', '0', '0', '1', '1']\n",
      "Generation:  20 Total price:  24494.270000000004 Space:  2.7663899 Chromosome:  ['1', '1', '1', '1', '1', '1', '0', '1', '1', '0', '0', '0', '1', '1']\n",
      "Generation:  21 Total price:  24494.270000000004 Space:  2.7663899 Chromosome:  ['1', '1', '1', '1', '1', '1', '0', '1', '1', '0', '0', '0', '1', '1']\n",
      "Generation:  22 Total price:  24494.270000000004 Space:  2.7663899 Chromosome:  ['1', '1', '1', '1', '1', '1', '0', '1', '1', '0', '0', '0', '1', '1']\n",
      "Generation:  23 Total price:  24494.270000000004 Space:  2.7663899 Chromosome:  ['1', '1', '1', '1', '1', '1', '0', '1', '1', '0', '0', '0', '1', '1']\n",
      "Generation:  24 Total price:  24494.270000000004 Space:  2.7663899 Chromosome:  ['1', '1', '1', '1', '1', '1', '0', '1', '1', '0', '0', '0', '1', '1']\n",
      "Generation:  25 Total price:  24494.270000000004 Space:  2.7663899 Chromosome:  ['1', '1', '1', '1', '1', '1', '0', '1', '1', '0', '0', '0', '1', '1']\n",
      "Generation:  26 Total price:  24793.560000000005 Space:  2.7982899000000003 Chromosome:  ['1', '1', '1', '1', '1', '1', '0', '1', '1', '1', '0', '0', '1', '1']\n",
      "Generation:  27 Total price:  24494.270000000004 Space:  2.7663899 Chromosome:  ['1', '1', '1', '1', '1', '1', '0', '1', '1', '0', '0', '0', '1', '1']\n",
      "Generation:  28 Total price:  24494.270000000004 Space:  2.7663899 Chromosome:  ['1', '1', '1', '1', '1', '1', '0', '1', '1', '0', '0', '0', '1', '1']\n",
      "Generation:  29 Total price:  24494.270000000004 Space:  2.7663899 Chromosome:  ['1', '1', '1', '1', '1', '1', '0', '1', '1', '0', '0', '0', '1', '1']\n",
      "Generation:  30 Total price:  24494.270000000004 Space:  2.7663899 Chromosome:  ['1', '1', '1', '1', '1', '1', '0', '1', '1', '0', '0', '0', '1', '1']\n",
      "Generation:  31 Total price:  24494.270000000004 Space:  2.7663899 Chromosome:  ['1', '1', '1', '1', '1', '1', '0', '1', '1', '0', '0', '0', '1', '1']\n",
      "Generation:  32 Total price:  24494.270000000004 Space:  2.7663899 Chromosome:  ['1', '1', '1', '1', '1', '1', '0', '1', '1', '0', '0', '0', '1', '1']\n",
      "Generation:  33 Total price:  24494.270000000004 Space:  2.7663899 Chromosome:  ['1', '1', '1', '1', '1', '1', '0', '1', '1', '0', '0', '0', '1', '1']\n",
      "Generation:  34 Total price:  24494.270000000004 Space:  2.7663899 Chromosome:  ['1', '1', '1', '1', '1', '1', '0', '1', '1', '0', '0', '0', '1', '1']\n",
      "Generation:  35 Total price:  24494.270000000004 Space:  2.7663899 Chromosome:  ['1', '1', '1', '1', '1', '1', '0', '1', '1', '0', '0', '0', '1', '1']\n",
      "Generation:  36 Total price:  24494.270000000004 Space:  2.7663899 Chromosome:  ['1', '1', '1', '1', '1', '1', '0', '1', '1', '0', '0', '0', '1', '1']\n",
      "Generation:  37 Total price:  24494.270000000004 Space:  2.7663899 Chromosome:  ['1', '1', '1', '1', '1', '1', '0', '1', '1', '0', '0', '0', '1', '1']\n",
      "Generation:  38 Total price:  24494.270000000004 Space:  2.7663899 Chromosome:  ['1', '1', '1', '1', '1', '1', '0', '1', '1', '0', '0', '0', '1', '1']\n",
      "Generation:  39 Total price:  24793.560000000005 Space:  2.7982899000000003 Chromosome:  ['1', '1', '1', '1', '1', '1', '0', '1', '1', '1', '0', '0', '1', '1']\n",
      "Generation:  40 Total price:  24793.560000000005 Space:  2.7982899000000003 Chromosome:  ['1', '1', '1', '1', '1', '1', '0', '1', '1', '1', '0', '0', '1', '1']\n",
      "Generation:  41 Total price:  24793.560000000005 Space:  2.7982899000000003 Chromosome:  ['1', '1', '1', '1', '1', '1', '0', '1', '1', '1', '0', '0', '1', '1']\n",
      "Generation:  42 Total price:  24793.560000000005 Space:  2.7982899000000003 Chromosome:  ['1', '1', '1', '1', '1', '1', '0', '1', '1', '1', '0', '0', '1', '1']\n",
      "Generation:  43 Total price:  24793.560000000005 Space:  2.7982899000000003 Chromosome:  ['1', '1', '1', '1', '1', '1', '0', '1', '1', '1', '0', '0', '1', '1']\n",
      "Generation:  44 Total price:  24793.560000000005 Space:  2.7982899000000003 Chromosome:  ['1', '1', '1', '1', '1', '1', '0', '1', '1', '1', '0', '0', '1', '1']\n",
      "Generation:  45 Total price:  24793.560000000005 Space:  2.7982899000000003 Chromosome:  ['1', '1', '1', '1', '1', '1', '0', '1', '1', '1', '0', '0', '1', '1']\n",
      "Generation:  46 Total price:  24793.560000000005 Space:  2.7982899000000003 Chromosome:  ['1', '1', '1', '1', '1', '1', '0', '1', '1', '1', '0', '0', '1', '1']\n",
      "Generation:  47 Total price:  24793.560000000005 Space:  2.7982899000000003 Chromosome:  ['1', '1', '1', '1', '1', '1', '0', '1', '1', '1', '0', '0', '1', '1']\n",
      "Generation:  48 Total price:  24793.560000000005 Space:  2.7982899000000003 Chromosome:  ['1', '1', '1', '1', '1', '1', '0', '1', '1', '1', '0', '0', '1', '1']\n",
      "Generation:  49 Total price:  24793.560000000005 Space:  2.7982899000000003 Chromosome:  ['1', '1', '1', '1', '1', '1', '0', '1', '1', '1', '0', '0', '1', '1']\n",
      "Generation:  50 Total price:  24494.270000000004 Space:  2.7663899 Chromosome:  ['1', '1', '1', '1', '1', '1', '0', '1', '1', '0', '0', '0', '1', '1']\n",
      "Generation:  51 Total price:  24494.270000000004 Space:  2.7663899 Chromosome:  ['1', '1', '1', '1', '1', '1', '0', '1', '1', '0', '0', '0', '1', '1']\n",
      "Generation:  52 Total price:  24494.270000000004 Space:  2.7663899 Chromosome:  ['1', '1', '1', '1', '1', '1', '0', '1', '1', '0', '0', '0', '1', '1']\n",
      "Generation:  53 Total price:  24793.560000000005 Space:  2.7982899000000003 Chromosome:  ['1', '1', '1', '1', '1', '1', '0', '1', '1', '1', '0', '0', '1', '1']\n",
      "Generation:  54 Total price:  24484.900000000005 Space:  2.7558899000000006 Chromosome:  ['1', '1', '1', '1', '1', '1', '0', '0', '1', '1', '0', '0', '1', '1']\n",
      "Generation:  55 Total price:  24484.900000000005 Space:  2.7558899000000006 Chromosome:  ['1', '1', '1', '1', '1', '1', '0', '0', '1', '1', '0', '0', '1', '1']\n",
      "Generation:  56 Total price:  24484.900000000005 Space:  2.7558899000000006 Chromosome:  ['1', '1', '1', '1', '1', '1', '0', '0', '1', '1', '0', '0', '1', '1']\n",
      "Generation:  57 Total price:  24484.900000000005 Space:  2.7558899000000006 Chromosome:  ['1', '1', '1', '1', '1', '1', '0', '0', '1', '1', '0', '0', '1', '1']\n",
      "Generation:  58 Total price:  24484.900000000005 Space:  2.7558899000000006 Chromosome:  ['1', '1', '1', '1', '1', '1', '0', '0', '1', '1', '0', '0', '1', '1']\n",
      "Generation:  59 Total price:  24484.900000000005 Space:  2.7558899000000006 Chromosome:  ['1', '1', '1', '1', '1', '1', '0', '0', '1', '1', '0', '0', '1', '1']\n",
      "Generation:  60 Total price:  24484.900000000005 Space:  2.7558899000000006 Chromosome:  ['1', '1', '1', '1', '1', '1', '0', '0', '1', '1', '0', '0', '1', '1']\n",
      "Generation:  61 Total price:  24484.900000000005 Space:  2.7558899000000006 Chromosome:  ['1', '1', '1', '1', '1', '1', '0', '0', '1', '1', '0', '0', '1', '1']\n",
      "Generation:  62 Total price:  24793.560000000005 Space:  2.7982899000000003 Chromosome:  ['1', '1', '1', '1', '1', '1', '0', '1', '1', '1', '0', '0', '1', '1']\n",
      "Generation:  63 Total price:  24185.610000000004 Space:  2.7239899000000003 Chromosome:  ['1', '1', '1', '1', '1', '1', '0', '0', '1', '0', '0', '0', '1', '1']\n",
      "Generation:  64 Total price:  24185.610000000004 Space:  2.7239899000000003 Chromosome:  ['1', '1', '1', '1', '1', '1', '0', '0', '1', '0', '0', '0', '1', '1']\n",
      "Generation:  65 Total price:  24185.610000000004 Space:  2.7239899000000003 Chromosome:  ['1', '1', '1', '1', '1', '1', '0', '0', '1', '0', '0', '0', '1', '1']\n",
      "Generation:  66 Total price:  24185.610000000004 Space:  2.7239899000000003 Chromosome:  ['1', '1', '1', '1', '1', '1', '0', '0', '1', '0', '0', '0', '1', '1']\n",
      "Generation:  67 Total price:  24185.610000000004 Space:  2.7239899000000003 Chromosome:  ['1', '1', '1', '1', '1', '1', '0', '0', '1', '0', '0', '0', '1', '1']\n",
      "Generation:  68 Total price:  24185.610000000004 Space:  2.7239899000000003 Chromosome:  ['1', '1', '1', '1', '1', '1', '0', '0', '1', '0', '0', '0', '1', '1']\n",
      "Generation:  69 Total price:  24494.270000000004 Space:  2.7663899 Chromosome:  ['1', '1', '1', '1', '1', '1', '0', '1', '1', '0', '0', '0', '1', '1']\n",
      "Generation:  70 Total price:  24494.270000000004 Space:  2.7663899 Chromosome:  ['1', '1', '1', '1', '1', '1', '0', '1', '1', '0', '0', '0', '1', '1']\n",
      "Generation:  71 Total price:  24494.270000000004 Space:  2.7663899 Chromosome:  ['1', '1', '1', '1', '1', '1', '0', '1', '1', '0', '0', '0', '1', '1']\n",
      "Generation:  72 Total price:  24494.270000000004 Space:  2.7663899 Chromosome:  ['1', '1', '1', '1', '1', '1', '0', '1', '1', '0', '0', '0', '1', '1']\n",
      "Generation:  73 Total price:  24494.270000000004 Space:  2.7663899 Chromosome:  ['1', '1', '1', '1', '1', '1', '0', '1', '1', '0', '0', '0', '1', '1']\n",
      "Generation:  74 Total price:  24494.270000000004 Space:  2.7663899 Chromosome:  ['1', '1', '1', '1', '1', '1', '0', '1', '1', '0', '0', '0', '1', '1']\n",
      "Generation:  75 Total price:  24494.270000000004 Space:  2.7663899 Chromosome:  ['1', '1', '1', '1', '1', '1', '0', '1', '1', '0', '0', '0', '1', '1']\n",
      "Generation:  76 Total price:  24494.270000000004 Space:  2.7663899 Chromosome:  ['1', '1', '1', '1', '1', '1', '0', '1', '1', '0', '0', '0', '1', '1']\n",
      "Generation:  77 Total price:  24494.270000000004 Space:  2.7663899 Chromosome:  ['1', '1', '1', '1', '1', '1', '0', '1', '1', '0', '0', '0', '1', '1']\n",
      "Generation:  78 Total price:  24494.270000000004 Space:  2.7663899 Chromosome:  ['1', '1', '1', '1', '1', '1', '0', '1', '1', '0', '0', '0', '1', '1']\n",
      "Generation:  79 Total price:  24494.270000000004 Space:  2.7663899 Chromosome:  ['1', '1', '1', '1', '1', '1', '0', '1', '1', '0', '0', '0', '1', '1']\n",
      "Generation:  80 Total price:  24494.270000000004 Space:  2.7663899 Chromosome:  ['1', '1', '1', '1', '1', '1', '0', '1', '1', '0', '0', '0', '1', '1']\n",
      "Generation:  81 Total price:  24494.270000000004 Space:  2.7663899 Chromosome:  ['1', '1', '1', '1', '1', '1', '0', '1', '1', '0', '0', '0', '1', '1']\n",
      "Generation:  82 Total price:  24494.270000000004 Space:  2.7663899 Chromosome:  ['1', '1', '1', '1', '1', '1', '0', '1', '1', '0', '0', '0', '1', '1']\n",
      "Generation:  83 Total price:  24494.270000000004 Space:  2.7663899 Chromosome:  ['1', '1', '1', '1', '1', '1', '0', '1', '1', '0', '0', '0', '1', '1']\n",
      "Generation:  84 Total price:  24494.270000000004 Space:  2.7663899 Chromosome:  ['1', '1', '1', '1', '1', '1', '0', '1', '1', '0', '0', '0', '1', '1']\n",
      "Generation:  85 Total price:  24494.270000000004 Space:  2.7663899 Chromosome:  ['1', '1', '1', '1', '1', '1', '0', '1', '1', '0', '0', '0', '1', '1']\n",
      "Generation:  86 Total price:  24793.560000000005 Space:  2.7982899000000003 Chromosome:  ['1', '1', '1', '1', '1', '1', '0', '1', '1', '1', '0', '0', '1', '1']\n",
      "Generation:  87 Total price:  24793.560000000005 Space:  2.7982899000000003 Chromosome:  ['1', '1', '1', '1', '1', '1', '0', '1', '1', '1', '0', '0', '1', '1']\n",
      "Generation:  88 Total price:  24793.560000000005 Space:  2.7982899000000003 Chromosome:  ['1', '1', '1', '1', '1', '1', '0', '1', '1', '1', '0', '0', '1', '1']\n",
      "Generation:  89 Total price:  24793.560000000005 Space:  2.7982899000000003 Chromosome:  ['1', '1', '1', '1', '1', '1', '0', '1', '1', '1', '0', '0', '1', '1']\n",
      "Generation:  90 Total price:  24793.560000000005 Space:  2.7982899000000003 Chromosome:  ['1', '1', '1', '1', '1', '1', '0', '1', '1', '1', '0', '0', '1', '1']\n",
      "Generation:  91 Total price:  24793.560000000005 Space:  2.7982899000000003 Chromosome:  ['1', '1', '1', '1', '1', '1', '0', '1', '1', '1', '0', '0', '1', '1']\n",
      "Generation:  92 Total price:  24494.270000000004 Space:  2.7663899 Chromosome:  ['1', '1', '1', '1', '1', '1', '0', '1', '1', '0', '0', '0', '1', '1']\n",
      "Generation:  93 Total price:  24793.560000000005 Space:  2.7982899000000003 Chromosome:  ['1', '1', '1', '1', '1', '1', '0', '1', '1', '1', '0', '0', '1', '1']\n",
      "Generation:  94 Total price:  24793.560000000005 Space:  2.7982899000000003 Chromosome:  ['1', '1', '1', '1', '1', '1', '0', '1', '1', '1', '0', '0', '1', '1']\n",
      "Generation:  95 Total price:  24494.270000000004 Space:  2.7663899 Chromosome:  ['1', '1', '1', '1', '1', '1', '0', '1', '1', '0', '0', '0', '1', '1']\n",
      "Generation:  96 Total price:  24494.270000000004 Space:  2.7663899 Chromosome:  ['1', '1', '1', '1', '1', '1', '0', '1', '1', '0', '0', '0', '1', '1']\n",
      "Generation:  97 Total price:  24494.270000000004 Space:  2.7663899 Chromosome:  ['1', '1', '1', '1', '1', '1', '0', '1', '1', '0', '0', '0', '1', '1']\n",
      "Generation:  98 Total price:  24494.270000000004 Space:  2.7663899 Chromosome:  ['1', '1', '1', '1', '1', '1', '0', '1', '1', '0', '0', '0', '1', '1']\n",
      "Generation:  99 Total price:  24494.270000000004 Space:  2.7663899 Chromosome:  ['1', '1', '1', '1', '1', '1', '0', '1', '1', '0', '0', '0', '1', '1']\n",
      "Generation:  100 Total price:  22993.560000000005 Space:  2.7962899 Chromosome:  ['1', '1', '1', '1', '1', '1', '1', '1', '1', '1', '0', '0', '0', '1']\n",
      "**** Best solution - Generation:  26 Total price:  24793.560000000005 Space:  2.7982899000000003 Chromosome:  ['1', '1', '1', '1', '1', '1', '0', '1', '1', '1', '0', '0', '1', '1']\n",
      "['1', '1', '1', '1', '1', '1', '0', '1', '1', '1', '0', '0', '1', '1']\n",
      "Name:  Refrigerator A  - Price:  999.9\n",
      "Name:  Cell phone  - Price:  2911.12\n",
      "Name:  TV 55'   - Price:  4346.99\n",
      "Name:  TV 50'   - Price:  3999.9\n",
      "Name:  TV 42'   - Price:  2999.0\n",
      "Name:  Notebook A  - Price:  2499.9\n",
      "Name:  Microwave A  - Price:  308.66\n",
      "Name:  Microwave B  - Price:  429.9\n",
      "Name:  Microwave C  - Price:  299.29\n",
      "Name:  Notebook B  - Price:  1999.9\n",
      "Name:  Notebook C  - Price:  3999.0\n"
     ]
    }
   ],
   "source": [
    "products_list = []\n",
    "products_list.append(Product(\"Refrigerator A\", 0.751, 999.90))\n",
    "products_list.append(Product(\"Cell phone\", 0.0000899, 2911.12))\n",
    "products_list.append(Product(\"TV 55' \", 0.400, 4346.99))\n",
    "products_list.append(Product(\"TV 50' \", 0.290, 3999.90))\n",
    "products_list.append(Product(\"TV 42' \", 0.200, 2999.00))\n",
    "products_list.append(Product(\"Notebook A\", 0.00350, 2499.90))\n",
    "products_list.append(Product(\"Ventilator\", 0.496, 199.90))\n",
    "products_list.append(Product(\"Microwave A\", 0.0424, 308.66))\n",
    "products_list.append(Product(\"Microwave B\", 0.0544, 429.90))\n",
    "products_list.append(Product(\"Microwave C\", 0.0319, 299.29))\n",
    "products_list.append(Product(\"Refrigerator B\", 0.635, 849.00))\n",
    "products_list.append(Product(\"Refrigerator C\", 0.870, 1199.89))\n",
    "products_list.append(Product(\"Notebook B\", 0.498, 1999.90))\n",
    "products_list.append(Product(\"Notebook C\", 0.527, 3999.00))\n",
    "\n",
    "spaces = []\n",
    "prices = []\n",
    "names = []\n",
    "for product in products_list:\n",
    "  spaces.append(product.space)\n",
    "  prices.append(product.price)\n",
    "  names.append(product.name)\n",
    "  \n",
    "limit = 3\n",
    "population_size = 20\n",
    "mutation_probability = 0.01\n",
    "number_of_generations = 100\n",
    "\n",
    "ga = GeneticAlgorithm(population_size)\n",
    "result = ga.solve(mutation_probability, number_of_generations, spaces, prices, limit)\n",
    "print(result)\n",
    "\n",
    "for i in range(len(products_list)):\n",
    "  if result[i] == '1':\n",
    "    print('Name: ', products_list[i].name, ' - Price: ', products_list[i].price)"
   ]
  },
  {
   "cell_type": "code",
   "execution_count": null,
   "metadata": {
    "colab": {
     "base_uri": "https://localhost:8080/"
    },
    "id": "xdVKmGjexcnv",
    "outputId": "6e5df130-9642-443c-e127-7d4e188f92f7"
   },
   "outputs": [],
   "source": [
    "for value in ga.list_of_solutions:\n",
    "  print(value)"
   ]
  },
  {
   "cell_type": "code",
   "execution_count": null,
   "metadata": {
    "colab": {
     "base_uri": "https://localhost:8080/",
     "height": 542
    },
    "id": "iaifYM4Pxm-m",
    "outputId": "fbafdff2-e0d8-48b7-c407-ddf1ea23ef3d"
   },
   "outputs": [],
   "source": [
    "import plotly.express as px\n",
    "figure = px.line(x = range(0,101), y = ga.list_of_solutions, title = 'Genetic algorithm results')\n",
    "figure.show()"
   ]
  },
  {
   "cell_type": "markdown",
   "metadata": {},
   "source": [
    "# Libraries\n"
   ]
  },
  {
   "cell_type": "code",
   "execution_count": 180,
   "metadata": {
    "colab": {
     "base_uri": "https://localhost:8080/"
    },
    "id": "lNq6ksn8xLXr",
    "outputId": "cb4c29a7-6060-438c-8984-45e9bdd631d8"
   },
   "outputs": [
    {
     "name": "stdout",
     "output_type": "stream",
     "text": [
      "Requirement already satisfied: deap in c:\\python312\\lib\\site-packages (1.4.1)\n",
      "Requirement already satisfied: numpy in c:\\python312\\lib\\site-packages (from deap) (1.26.1)\n",
      "Note: you may need to restart the kernel to use updated packages.\n"
     ]
    }
   ],
   "source": [
    "%pip install deap\n",
    "#pip install deap == 1.3.1"
   ]
  },
  {
   "cell_type": "code",
   "execution_count": null,
   "metadata": {
    "colab": {
     "base_uri": "https://localhost:8080/"
    },
    "id": "u7vQkber7CN0",
    "outputId": "e9711b80-a39a-4e46-dab7-7ee5503d823a"
   },
   "outputs": [],
   "source": [
    "%pip install mlrose\n",
    "#!pip install mlrose == 1.3.0"
   ]
  },
  {
   "cell_type": "code",
   "execution_count": 204,
   "metadata": {
    "colab": {
     "base_uri": "https://localhost:8080/",
     "height": 404
    },
    "id": "ndSjWluCy4Sb",
    "outputId": "d6552cb9-8fdf-4305-b0ba-c9678b8ba7b3"
   },
   "outputs": [],
   "source": [
    "import numpy\n",
    "import random\n",
    "from deap import base\n",
    "from deap import creator\n",
    "from deap import algorithms\n",
    "from deap import tools"
   ]
  },
  {
   "cell_type": "code",
   "execution_count": 205,
   "metadata": {
    "id": "vxpT_RQo_A8F"
   },
   "outputs": [],
   "source": [
    "import six\n",
    "import sys\n",
    "sys.modules['sklearn.externals.six'] = six\n",
    "import mlrose"
   ]
  },
  {
   "cell_type": "markdown",
   "metadata": {},
   "source": [
    "# Transport Of Products (1st Machine Problem)"
   ]
  },
  {
   "cell_type": "markdown",
   "metadata": {
    "id": "aM4ZkdnbxIKM"
   },
   "source": [
    "### DEAP library - transport of products\n",
    "\n",
    "- https://github.com/deap/deap"
   ]
  },
  {
   "cell_type": "code",
   "execution_count": null,
   "metadata": {
    "id": "MYG5NNrwynki"
   },
   "outputs": [],
   "source": [
    "class Product():\n",
    "    def __init__(self, name, space, price):\n",
    "        self.name = name\n",
    "        self.space = space\n",
    "        self.price = price"
   ]
  },
  {
   "cell_type": "code",
   "execution_count": null,
   "metadata": {
    "id": "9HDXDNffytUq"
   },
   "outputs": [],
   "source": [
    "products_list = []\n",
    "products_list.append(Product(\"Refrigerator A\", 0.751, 999.90))\n",
    "products_list.append(Product(\"Cell phone\", 0.0000899, 2911.12))\n",
    "products_list.append(Product(\"TV 55' \", 0.400, 4346.99))\n",
    "products_list.append(Product(\"TV 50' \", 0.290, 3999.90))\n",
    "products_list.append(Product(\"TV 42' \", 0.200, 2999.00))\n",
    "products_list.append(Product(\"Notebook A\", 0.00350, 2499.90))\n",
    "products_list.append(Product(\"Ventilator\", 0.496, 199.90))\n",
    "products_list.append(Product(\"Microwave A\", 0.0424, 308.66))\n",
    "products_list.append(Product(\"Microwave B\", 0.0544, 429.90))\n",
    "products_list.append(Product(\"Microwave C\", 0.0319, 299.29))\n",
    "products_list.append(Product(\"Refrigerator B\", 0.635, 849.00))\n",
    "products_list.append(Product(\"Refrigerator C\", 0.870, 1199.89))\n",
    "products_list.append(Product(\"Notebook B\", 0.498, 1999.90))\n",
    "products_list.append(Product(\"Notebook C\", 0.527, 3999.00))\n",
    "spaces = []\n",
    "prices = []\n",
    "names = []\n",
    "\n",
    "for product in products_list:\n",
    "  spaces.append(product.space)\n",
    "  prices.append(product.price)\n",
    "  names.append(product.name)\n",
    "\n",
    "limit = 3\n",
    "population_size = 20\n",
    "mutation_probability = 0.01\n",
    "number_of_generations = 100"
   ]
  },
  {
   "cell_type": "code",
   "execution_count": null,
   "metadata": {
    "id": "p_W4tiSZzGrs"
   },
   "outputs": [],
   "source": [
    "# [0, 1, 1, 1, 1, 1, 0, 1, 1, 1, 0, 1, 1, 1]\n",
    "def fitness(solution):\n",
    "  cost = 0\n",
    "  sum_space = 0\n",
    "  for i in range(len(solution)):\n",
    "    if solution[i] == 1:\n",
    "      cost += prices[i]\n",
    "      sum_space += spaces[i]\n",
    "  if sum_space > limit:\n",
    "    cost = 1\n",
    "  return cost,"
   ]
  },
  {
   "cell_type": "code",
   "execution_count": null,
   "metadata": {
    "id": "1x5JDwrtz1EI"
   },
   "outputs": [],
   "source": [
    "toolbox = base.Toolbox()\n",
    "creator.create('FitnessMax', base.Fitness, weights=(1.0,))\n",
    "creator.create('Individual', list, fitness=creator.FitnessMax)"
   ]
  },
  {
   "cell_type": "code",
   "execution_count": null,
   "metadata": {
    "id": "zSJgddwL0hbd"
   },
   "outputs": [],
   "source": [
    "toolbox.register('attr_bool', random.randint, 0, 1)\n",
    "toolbox.register('individual', tools.initRepeat, creator.Individual, toolbox.attr_bool, n=14)\n",
    "toolbox.register('population', tools.initRepeat, list, toolbox.individual)\n",
    "toolbox.register('evaluate', fitness)\n",
    "toolbox.register('mate', tools.cxOnePoint)\n",
    "toolbox.register('mutate', tools.mutFlipBit, indpb = 0.01)\n",
    "toolbox.register('select', tools.selRoulette)"
   ]
  },
  {
   "cell_type": "code",
   "execution_count": null,
   "metadata": {
    "colab": {
     "base_uri": "https://localhost:8080/"
    },
    "id": "9PDmxFSg3bKQ",
    "outputId": "dfb2e5cf-3bfd-431c-b390-c3aac9b0a554"
   },
   "outputs": [],
   "source": [
    "population = toolbox.population(n = 20)\n",
    "crossover_probability = 1.0\n",
    "number_of_generations = 100\n",
    "\n",
    "statistics = tools.Statistics(key = lambda individual: individual.fitness.values)\n",
    "statistics.register('max', numpy.max)\n",
    "statistics.register('min', numpy.min)\n",
    "statistics.register('med', numpy.mean)\n",
    "statistics.register('std', numpy.std)\n",
    "\n",
    "population, info = algorithms.eaSimple(population, toolbox, crossover_probability, mutation_probability,\n",
    "                                       number_of_generations, statistics)"
   ]
  },
  {
   "cell_type": "code",
   "execution_count": null,
   "metadata": {
    "colab": {
     "base_uri": "https://localhost:8080/"
    },
    "id": "0eUT7ADb5ecP",
    "outputId": "dc8775d2-ba64-4518-a7b9-1e97ee796f14"
   },
   "outputs": [],
   "source": [
    "best_solutions = tools.selBest(population, 1)\n",
    "for individual in best_solutions:\n",
    "  print(individual)\n",
    "  print(individual.fitness)\n",
    "  for i in range(len(individual)):\n",
    "    if individual[i] == 1:\n",
    "      print('Name: ', names[i], ' - Price: ', prices[i])"
   ]
  },
  {
   "cell_type": "code",
   "execution_count": null,
   "metadata": {
    "colab": {
     "base_uri": "https://localhost:8080/"
    },
    "id": "32qozfa46Y5f",
    "outputId": "f82f86d4-ce72-4d8f-dd01-96c668b076c2"
   },
   "outputs": [],
   "source": [
    "info.select('max')"
   ]
  },
  {
   "cell_type": "code",
   "execution_count": null,
   "metadata": {
    "colab": {
     "base_uri": "https://localhost:8080/",
     "height": 543
    },
    "id": "Wd-cqOk-6g3n",
    "outputId": "b23d388d-bb62-4468-f1da-446e6f0c329c"
   },
   "outputs": [],
   "source": [
    "import plotly.express as px\n",
    "figure = px.line(x=range(0,101), y=info.select('max'), title='Genetic algorithm results')\n",
    "figure.show()"
   ]
  },
  {
   "cell_type": "markdown",
   "metadata": {
    "id": "u_rsSQ_97BaQ"
   },
   "source": [
    "### MLROSe library - transport of products\n",
    "\n",
    "- Documentation: https://mlrose.readthedocs.io/en/stable/source/tutorial1.html#"
   ]
  },
  {
   "cell_type": "code",
   "execution_count": null,
   "metadata": {
    "id": "Ar22TSxl_H8K"
   },
   "outputs": [],
   "source": [
    "products = [('Refrigerator A', 0.751, 999.90),\n",
    "            ('Cell phone', 0.0000899, 2911.12),\n",
    "            ('TV 55', 0.400, 4346.99),\n",
    "            ('TV 50', 0.290, 3999.90),\n",
    "            ('TV 42', 0.200, 2999.00),\n",
    "            ('Notebook A', 0.00350, 2499.90),\n",
    "            ('Ventilator', 0.496, 199.90),\n",
    "            ('Microwave A', 0.0424, 308.66),\n",
    "            ('Microwave B', 0.0544, 429.90),\n",
    "            ('Microwave C', 0.0319, 299.29),\n",
    "            ('Refrigerator B', 0.635, 849.00),\n",
    "            ('Refrigerator C', 0.870, 1199.89),\n",
    "            ('Notebook B', 0.498, 1999.90),\n",
    "            ('Notebook C', 0.527, 3999.00)]"
   ]
  },
  {
   "cell_type": "code",
   "execution_count": null,
   "metadata": {
    "colab": {
     "base_uri": "https://localhost:8080/"
    },
    "id": "B0Z2AnPK_QKG",
    "outputId": "09460769-76cb-4c9c-da76-d064800d5223"
   },
   "outputs": [],
   "source": [
    "products"
   ]
  },
  {
   "cell_type": "code",
   "execution_count": null,
   "metadata": {
    "id": "1Mr3ikYt_Sjk"
   },
   "outputs": [],
   "source": [
    "limit = 3"
   ]
  },
  {
   "cell_type": "code",
   "execution_count": null,
   "metadata": {
    "id": "RopcQkGM_XMs"
   },
   "outputs": [],
   "source": [
    "def fitness_function(solution):\n",
    "  cost = 0\n",
    "  sum_space = 0\n",
    "  for i in range(len(solution)):\n",
    "    if solution[i] == 1:\n",
    "      cost += products[i][2]\n",
    "      sum_space += products[i][1]\n",
    "  if sum_space > limit:\n",
    "    cost = 1\n",
    "  return cost"
   ]
  },
  {
   "cell_type": "code",
   "execution_count": null,
   "metadata": {
    "id": "f1MeTS21_jmd"
   },
   "outputs": [],
   "source": [
    "fitness = mlrose.CustomFitness(fitness_function)"
   ]
  },
  {
   "cell_type": "code",
   "execution_count": null,
   "metadata": {
    "colab": {
     "base_uri": "https://localhost:8080/"
    },
    "id": "iSDG8FsU_ynT",
    "outputId": "9b96ae44-084c-414d-c0fd-d3c55aee7280"
   },
   "outputs": [],
   "source": [
    "len(products)"
   ]
  },
  {
   "cell_type": "code",
   "execution_count": null,
   "metadata": {
    "id": "a5mWKjD6_rlv"
   },
   "outputs": [],
   "source": [
    "problem = mlrose.DiscreteOpt(length=len(products), fitness_fn=fitness, maximize=True, max_val=2) # 0, 1"
   ]
  },
  {
   "cell_type": "code",
   "execution_count": null,
   "metadata": {
    "colab": {
     "base_uri": "https://localhost:8080/"
    },
    "id": "Q3vXKaG0ALfs",
    "outputId": "ed8531bd-10fa-4f8e-bae5-6ba83962be23"
   },
   "outputs": [],
   "source": [
    "best_solution, best_fitness = mlrose.genetic_alg(problem, pop_size=20, mutation_prob=0.01)\n",
    "best_solution, best_fitness"
   ]
  },
  {
   "cell_type": "code",
   "execution_count": null,
   "metadata": {
    "colab": {
     "base_uri": "https://localhost:8080/"
    },
    "id": "OkXJWW0LA5kj",
    "outputId": "c09011eb-ba6c-43f3-f70e-f0e343801e15"
   },
   "outputs": [],
   "source": [
    "products[1][0], products[1][2]"
   ]
  },
  {
   "cell_type": "code",
   "execution_count": null,
   "metadata": {
    "colab": {
     "base_uri": "https://localhost:8080/"
    },
    "id": "ukGb_TG-ArFT",
    "outputId": "5e67595e-75c5-4631-df1f-5af776e763ed"
   },
   "outputs": [],
   "source": [
    "for i in range(len(best_solution)):\n",
    "  if best_solution[i] == 1:\n",
    "    print('Name: ', products[i][0], ' - Price: ', products[i][2])"
   ]
  },
  {
   "cell_type": "markdown",
   "metadata": {
    "id": "Kj6xAssNEHQU"
   },
   "source": [
    "# Flight schedule (2nd Machine Problem)"
   ]
  },
  {
   "cell_type": "markdown",
   "metadata": {},
   "source": [
    "### Representing the Problem"
   ]
  },
  {
   "cell_type": "code",
   "execution_count": 213,
   "metadata": {
    "id": "S2PJJF1fEL3k"
   },
   "outputs": [
    {
     "data": {
      "text/plain": [
       "[('Lisbon', 'LIS'),\n",
       " ('Madrid', 'MAD'),\n",
       " ('Paris', 'CDG'),\n",
       " ('Dublin', 'DUB'),\n",
       " ('Brussels', 'BRU'),\n",
       " ('London', 'LHR')]"
      ]
     },
     "execution_count": 213,
     "metadata": {},
     "output_type": "execute_result"
    }
   ],
   "source": [
    "# (Person, Airport)\n",
    "people = [('Lisbon', 'LIS'),\n",
    "          ('Madrid', 'MAD'),\n",
    "          ('Paris', 'CDG'),\n",
    "          ('Dublin', 'DUB'),\n",
    "          ('Brussels', 'BRU'),\n",
    "          ('London', 'LHR')]\n",
    "\n",
    "people"
   ]
  },
  {
   "cell_type": "code",
   "execution_count": 192,
   "metadata": {
    "id": "-zLsjs1zF1q0"
   },
   "outputs": [],
   "source": [
    "destiny = 'FCO'"
   ]
  },
  {
   "cell_type": "code",
   "execution_count": 216,
   "metadata": {
    "id": "3inlcjuCHTPn"
   },
   "outputs": [
    {
     "data": {
      "text/plain": [
       "{('FCO', 'LIS'): [('6:19', '8:13', 239),\n",
       "  ('8:04', '10:59', 136),\n",
       "  ('9:31', '11:43', 210),\n",
       "  ('11:07', '13:24', 171),\n",
       "  ('12:31', '14:02', 234),\n",
       "  ('14:05', '15:47', 226),\n",
       "  ('15:07', '17:21', 129),\n",
       "  ('16:35', '18:56', 144),\n",
       "  ('18:25', '20:34', 205),\n",
       "  ('20:05', '21:44', 172)],\n",
       " ('LIS', 'FCO'): [('6:11', '8:31', 249),\n",
       "  ('7:39', '10:24', 219),\n",
       "  ('9:15', '12:03', 99),\n",
       "  ('11:08', '13:07', 175),\n",
       "  ('12:18', '14:56', 172),\n",
       "  ('13:37', '15:08', 250),\n",
       "  ('15:03', '16:42', 135),\n",
       "  ('16:51', '19:09', 147),\n",
       "  ('18:12', '20:17', 242),\n",
       "  ('20:05', '22:06', 261)],\n",
       " ('FCO', 'MAD'): [('6:03', '8:43', 219),\n",
       "  ('7:50', '10:08', 164),\n",
       "  ('9:11', '10:42', 172),\n",
       "  ('10:33', '13:11', 132),\n",
       "  ('12:08', '14:47', 231),\n",
       "  ('14:19', '17:09', 190),\n",
       "  ('15:04', '17:23', 189),\n",
       "  ('17:06', '20:00', 95),\n",
       "  ('18:33', '20:22', 143),\n",
       "  ('19:32', '21:25', 160)],\n",
       " ('MAD', 'FCO'): [('6:05', '8:32', 174),\n",
       "  ('8:25', '10:34', 157),\n",
       "  ('9:42', '11:32', 169),\n",
       "  ('11:01', '12:39', 260),\n",
       "  ('12:44', '14:17', 134),\n",
       "  ('14:22', '16:32', 126),\n",
       "  ('15:58', '18:40', 173),\n",
       "  ('16:43', '19:00', 246),\n",
       "  ('18:48', '21:45', 246),\n",
       "  ('19:50', '22:24', 269)],\n",
       " ('FCO', 'CDG'): [('6:33', '9:14', 172),\n",
       "  ('8:23', '11:07', 143),\n",
       "  ('9:25', '12:46', 295),\n",
       "  ('11:08', '14:38', 262),\n",
       "  ('12:37', '15:05', 170),\n",
       "  ('14:08', '16:09', 232),\n",
       "  ('15:23', '18:49', 150),\n",
       "  ('16:50', '19:26', 304),\n",
       "  ('18:07', '21:30', 355),\n",
       "  ('20:27', '23:42', 169)],\n",
       " ('CDG', 'FCO'): [('6:25', '9:30', 335),\n",
       "  ('7:34', '9:40', 324),\n",
       "  ('9:15', '12:29', 225),\n",
       "  ('11:28', '14:40', 248),\n",
       "  ('12:05', '15:30', 330),\n",
       "  ('14:01', '17:24', 338),\n",
       "  ('15:34', '18:11', 326),\n",
       "  ('17:07', '20:04', 291),\n",
       "  ('18:23', '21:35', 134),\n",
       "  ('19:53', '22:21', 173)],\n",
       " ('FCO', 'DUB'): [('6:39', '8:09', 86),\n",
       "  ('8:23', '10:28', 149),\n",
       "  ('9:58', '11:18', 130),\n",
       "  ('10:33', '12:03', 74),\n",
       "  ('12:08', '14:05', 142),\n",
       "  ('13:39', '15:30', 74),\n",
       "  ('15:25', '16:58', 62),\n",
       "  ('17:03', '18:03', 103),\n",
       "  ('18:24', '20:49', 124),\n",
       "  ('19:58', '21:23', 142)],\n",
       " ('DUB', 'FCO'): [('6:17', '8:26', 89),\n",
       "  ('8:04', '10:11', 95),\n",
       "  ('9:45', '11:50', 172),\n",
       "  ('11:16', '13:29', 83),\n",
       "  ('12:34', '15:02', 109),\n",
       "  ('13:40', '15:37', 138),\n",
       "  ('15:27', '17:18', 151),\n",
       "  ('17:11', '18:30', 108),\n",
       "  ('18:34', '19:36', 136),\n",
       "  ('20:17', '22:22', 102)],\n",
       " ('FCO', 'BRU'): [('6:09', '9:49', 414),\n",
       "  ('7:57', '11:15', 347),\n",
       "  ('9:49', '13:51', 229),\n",
       "  ('10:51', '14:16', 256),\n",
       "  ('12:20', '16:34', 500),\n",
       "  ('14:20', '17:32', 332),\n",
       "  ('15:49', '20:10', 497),\n",
       "  ('17:14', '20:59', 277),\n",
       "  ('18:44', '22:42', 351),\n",
       "  ('19:57', '23:15', 512)],\n",
       " ('BRU', 'FCO'): [('6:12', '10:22', 230),\n",
       "  ('7:53', '11:37', 433),\n",
       "  ('9:08', '12:12', 364),\n",
       "  ('10:30', '14:57', 290),\n",
       "  ('12:19', '15:25', 342),\n",
       "  ('13:54', '18:02', 294),\n",
       "  ('15:44', '18:55', 382),\n",
       "  ('16:52', '20:48', 448),\n",
       "  ('18:26', '21:29', 464),\n",
       "  ('20:07', '23:27', 473)],\n",
       " ('FCO', 'LHR'): [('6:58', '9:01', 238),\n",
       "  ('8:19', '11:16', 122),\n",
       "  ('9:58', '12:56', 249),\n",
       "  ('10:32', '13:16', 139),\n",
       "  ('12:01', '13:41', 267),\n",
       "  ('13:37', '15:33', 142),\n",
       "  ('15:50', '18:45', 243),\n",
       "  ('16:33', '18:15', 253),\n",
       "  ('18:17', '21:04', 259),\n",
       "  ('19:46', '21:45', 214)],\n",
       " ('LHR', 'FCO'): [('6:08', '8:06', 224),\n",
       "  ('8:27', '10:45', 139),\n",
       "  ('9:15', '12:14', 247),\n",
       "  ('10:53', '13:36', 189),\n",
       "  ('12:08', '14:59', 149),\n",
       "  ('13:40', '15:38', 137),\n",
       "  ('15:23', '17:25', 232),\n",
       "  ('17:08', '19:08', 262),\n",
       "  ('18:35', '20:28', 204),\n",
       "  ('20:30', '23:11', 114)]}"
      ]
     },
     "execution_count": 216,
     "metadata": {},
     "output_type": "execute_result"
    }
   ],
   "source": [
    "flights = {}\n",
    "# (origin, destination): [(departure, arrival, price), ...]\n",
    "\n",
    "for row in open('flights.txt'):\n",
    "    # print(row)\n",
    "    # print(row.split(','))\n",
    "    origin, destiny, departure, arrival, price = row.split(',')\n",
    "    # print(origin, destiny, departure, arrival, price)\n",
    "    flights.setdefault((origin, destiny), [])\n",
    "    # print(flights)\n",
    "    flights[(origin, destiny)].append((departure, arrival, int(price)))\n",
    "\n",
    "flights"
   ]
  },
  {
   "cell_type": "code",
   "execution_count": 217,
   "metadata": {
    "colab": {
     "base_uri": "https://localhost:8080/"
    },
    "id": "dqg5khVOI-r2",
    "outputId": "250195b2-3cce-4f43-e804-b37cfcbbea68"
   },
   "outputs": [
    {
     "data": {
      "text/plain": [
       "[('6:11', '8:31', 249),\n",
       " ('7:39', '10:24', 219),\n",
       " ('9:15', '12:03', 99),\n",
       " ('11:08', '13:07', 175),\n",
       " ('12:18', '14:56', 172),\n",
       " ('13:37', '15:08', 250),\n",
       " ('15:03', '16:42', 135),\n",
       " ('16:51', '19:09', 147),\n",
       " ('18:12', '20:17', 242),\n",
       " ('20:05', '22:06', 261)]"
      ]
     },
     "execution_count": 217,
     "metadata": {},
     "output_type": "execute_result"
    }
   ],
   "source": [
    "flights[('LIS', 'FCO')]"
   ]
  },
  {
   "cell_type": "code",
   "execution_count": null,
   "metadata": {
    "colab": {
     "base_uri": "https://localhost:8080/"
    },
    "id": "9EoTkGoEJEII",
    "outputId": "a81bab18-79ae-40b8-f32a-2d1b2a2f0fed"
   },
   "outputs": [],
   "source": [
    "flights[('FCO', 'LIS')]"
   ]
  },
  {
   "cell_type": "code",
   "execution_count": null,
   "metadata": {
    "colab": {
     "base_uri": "https://localhost:8080/"
    },
    "id": "bfMXlUV_K2cR",
    "outputId": "b70e37b8-a134-4da1-ae4f-ab0fba85d57f"
   },
   "outputs": [],
   "source": [
    "flights[('MAD', 'FCO')]"
   ]
  },
  {
   "cell_type": "code",
   "execution_count": null,
   "metadata": {
    "colab": {
     "base_uri": "https://localhost:8080/"
    },
    "id": "akrZSW9LK4Xp",
    "outputId": "2d70da0c-df61-484b-803c-ac3440a616e1"
   },
   "outputs": [],
   "source": [
    "flights[('FCO', 'MAD')]"
   ]
  },
  {
   "cell_type": "code",
   "execution_count": 238,
   "metadata": {
    "colab": {
     "base_uri": "https://localhost:8080/"
    },
    "id": "0k8pnZAjKSHq",
    "outputId": "4b25fd6e-1eab-4b57-d28b-ffe9e5b6da10"
   },
   "outputs": [
    {
     "name": "stdout",
     "output_type": "stream",
     "text": [
      "range(0, 6)\n"
     ]
    }
   ],
   "source": [
    "schedule = [1,0, 3,2, 7,3, 6,3, 2,4, 5,3]\n",
    "len(schedule)"
   ]
  },
  {
   "cell_type": "code",
   "execution_count": null,
   "metadata": {
    "colab": {
     "base_uri": "https://localhost:8080/"
    },
    "id": "RdV_a3sjLbzq",
    "outputId": "3dcac075-def3-4f5f-9fe2-12f0237b5483"
   },
   "outputs": [],
   "source": [
    "len(schedule) // 2"
   ]
  },
  {
   "cell_type": "code",
   "execution_count": 198,
   "metadata": {
    "id": "xwWsV37LLu6k"
   },
   "outputs": [],
   "source": [
    "def print_schedule(schedule):\n",
    "  flight_id = -1\n",
    "  total_price = 0\n",
    "  \n",
    "  for i in range(len(schedule) // 2):\n",
    "    name = people[i][0]\n",
    "    # print(name)\n",
    "    origin = people[i][1]\n",
    "    # print(origin)\n",
    "    flight_id += 1\n",
    "    going = flights[(origin, destiny)][schedule[flight_id]]\n",
    "    # print(going)\n",
    "    total_price += going[2]\n",
    "    \n",
    "    flight_id += 1\n",
    "    returning = flights[(destiny, origin)][schedule[flight_id]]\n",
    "    total_price += returning[2]\n",
    "    #print('\\n')\n",
    "    print('%10s%10s %5s-%5s %3s %5s-%5s %3s' % (name, origin, going[0], going[1], going[2],\n",
    "                                                returning[0], returning[1], returning[2]))\n",
    "  print('Total price:', total_price)"
   ]
  },
  {
   "cell_type": "code",
   "execution_count": 199,
   "metadata": {
    "colab": {
     "base_uri": "https://localhost:8080/"
    },
    "id": "H1i3UZ8ZMDKv",
    "outputId": "305d4998-c52f-451f-e8c8-46817371a524"
   },
   "outputs": [
    {
     "name": "stdout",
     "output_type": "stream",
     "text": [
      "FCO\n",
      "    Lisbon       LIS  7:39-10:24 219  6:19- 8:13 239\n",
      "    Madrid       MAD 11:01-12:39 260  9:11-10:42 172\n",
      "     Paris       CDG 17:07-20:04 291 11:08-14:38 262\n",
      "    Dublin       DUB 15:27-17:18 151 10:33-12:03  74\n",
      "  Brussels       BRU  9:08-12:12 364 12:20-16:34 500\n",
      "    London       LHR 13:40-15:38 137 10:32-13:16 139\n",
      "Total price: 2808\n"
     ]
    }
   ],
   "source": [
    "print_schedule(schedule)"
   ]
  },
  {
   "cell_type": "markdown",
   "metadata": {
    "id": "Fb34g6cnQ-7u"
   },
   "source": [
    "### DEAP library - Flight schedule"
   ]
  },
  {
   "cell_type": "code",
   "execution_count": 206,
   "metadata": {
    "id": "gXURRqykPL67"
   },
   "outputs": [],
   "source": [
    "def fitness_function_deap(schedule):\n",
    "  flight_id = -1\n",
    "  total_price = 0\n",
    "  \n",
    "  for i in range(0, 6):\n",
    "    origin = people[i][1]\n",
    "    flight_id += 1\n",
    "    going = flights[(origin, destiny)][schedule[flight_id]]\n",
    "    total_price += going[2]\n",
    "    flight_id += 1\n",
    "    returning = flights[(destiny, origin)][schedule[flight_id]]\n",
    "    total_price += returning[2]\n",
    "\n",
    "  return total_price,"
   ]
  },
  {
   "cell_type": "code",
   "execution_count": 207,
   "metadata": {
    "colab": {
     "base_uri": "https://localhost:8080/"
    },
    "id": "84yfIAs3Q_0L",
    "outputId": "6a7eb08a-1af1-476a-ec5c-d24f2b5ea643"
   },
   "outputs": [
    {
     "name": "stderr",
     "output_type": "stream",
     "text": [
      "c:\\Python312\\Lib\\site-packages\\deap\\creator.py:185: RuntimeWarning:\n",
      "\n",
      "A class named 'FitnessMin' has already been created and it will be overwritten. Consider deleting previous creation of that class or rename it.\n",
      "\n",
      "c:\\Python312\\Lib\\site-packages\\deap\\creator.py:185: RuntimeWarning:\n",
      "\n",
      "A class named 'Individual' has already been created and it will be overwritten. Consider deleting previous creation of that class or rename it.\n",
      "\n"
     ]
    },
    {
     "name": "stdout",
     "output_type": "stream",
     "text": [
      "gen\tnevals\tmax \tmin \tmed    \tstd    \n",
      "0  \t500   \t3151\t2102\t2617.88\t198.554\n",
      "1  \t385   \t2922\t1993\t2444.43\t155.915\n",
      "2  \t384   \t2751\t1973\t2309.71\t138.036\n",
      "3  \t395   \t2492\t1805\t2195.49\t116.33 \n",
      "4  \t407   \t2425\t1840\t2091.5 \t107.162\n",
      "5  \t395   \t2354\t1763\t2006.07\t91.4207\n",
      "6  \t400   \t2219\t1726\t1942.01\t81.1263\n",
      "7  \t410   \t2087\t1690\t1871.6 \t69.8372\n",
      "8  \t386   \t2030\t1678\t1814.3 \t55.9279\n",
      "9  \t386   \t1983\t1643\t1770.86\t47.1478\n",
      "10 \t403   \t1917\t1586\t1734.49\t44.0254\n",
      "11 \t395   \t2023\t1586\t1705.27\t42.0096\n",
      "12 \t394   \t1845\t1586\t1676.93\t32.4025\n",
      "13 \t417   \t1880\t1573\t1653.82\t37.3953\n",
      "14 \t388   \t2018\t1566\t1631.44\t41.78  \n",
      "15 \t372   \t1835\t1566\t1609.98\t32.1646\n",
      "16 \t402   \t1798\t1566\t1594.48\t27.3907\n",
      "17 \t373   \t1777\t1566\t1581.39\t20.9958\n",
      "18 \t389   \t1834\t1566\t1577.17\t26.6946\n",
      "19 \t397   \t1777\t1566\t1575.2 \t30.9489\n",
      "20 \t398   \t1967\t1566\t1571.25\t29.4439\n",
      "21 \t410   \t1861\t1566\t1569.22\t22.0182\n",
      "22 \t384   \t1806\t1566\t1569.24\t23.4054\n",
      "23 \t386   \t1769\t1566\t1570.92\t28.4646\n",
      "24 \t415   \t1775\t1566\t1569.88\t24.0872\n",
      "25 \t410   \t1861\t1566\t1573.35\t34.5651\n",
      "26 \t420   \t1970\t1566\t1571.6 \t33.7216\n",
      "27 \t382   \t1769\t1566\t1571.06\t27.3341\n",
      "28 \t403   \t1792\t1566\t1568.88\t20.6759\n",
      "29 \t410   \t1954\t1566\t1570.95\t29.5997\n",
      "30 \t417   \t1891\t1566\t1570.1 \t27.0872\n",
      "31 \t394   \t1769\t1566\t1570.68\t26.4979\n",
      "32 \t391   \t1806\t1566\t1569.55\t22.1015\n",
      "33 \t406   \t1970\t1566\t1570.59\t31.3698\n",
      "34 \t400   \t1796\t1566\t1570.92\t27.804 \n",
      "35 \t374   \t1767\t1566\t1567.78\t15.7693\n",
      "36 \t405   \t1769\t1566\t1569.44\t23.7922\n",
      "37 \t391   \t1919\t1566\t1572.75\t33.8265\n",
      "38 \t374   \t1769\t1566\t1568.52\t20.276 \n",
      "39 \t411   \t1767\t1566\t1569.23\t21.1023\n",
      "40 \t396   \t1861\t1566\t1569.77\t24.3855\n",
      "41 \t407   \t1780\t1566\t1570.41\t26.9866\n",
      "42 \t383   \t1769\t1566\t1568.52\t17.7201\n",
      "43 \t385   \t1767\t1566\t1569.83\t23.5775\n",
      "44 \t389   \t1798\t1566\t1571.79\t28.9989\n",
      "45 \t389   \t1769\t1566\t1570.76\t27.0294\n",
      "46 \t382   \t1893\t1566\t1571.03\t30.8462\n",
      "47 \t385   \t1769\t1566\t1570.1 \t25.7119\n",
      "48 \t379   \t1769\t1566\t1568.98\t22.2033\n",
      "49 \t406   \t1775\t1566\t1570.21\t24.1195\n",
      "50 \t400   \t1877\t1566\t1570.99\t27.0789\n",
      "51 \t391   \t1769\t1566\t1570.5 \t26.6414\n",
      "52 \t386   \t1767\t1566\t1567.82\t17.743 \n",
      "53 \t380   \t1786\t1566\t1568.94\t22.1771\n",
      "54 \t404   \t1901\t1566\t1570.68\t27.8846\n",
      "55 \t404   \t1791\t1566\t1569.07\t19.6849\n",
      "56 \t395   \t1769\t1566\t1568.77\t20.3876\n",
      "57 \t406   \t1773\t1566\t1571.25\t28.398 \n",
      "58 \t418   \t1769\t1566\t1570.56\t27.156 \n",
      "59 \t380   \t1751\t1566\t1568.39\t16.7085\n",
      "60 \t411   \t1954\t1566\t1569.82\t28.0612\n",
      "61 \t408   \t1769\t1566\t1569.98\t23.6569\n",
      "62 \t388   \t1879\t1566\t1570.12\t27.3199\n",
      "63 \t370   \t1769\t1566\t1570.07\t22.994 \n",
      "64 \t366   \t1826\t1566\t1569.19\t23.4636\n",
      "65 \t379   \t1769\t1566\t1569.65\t21.8128\n",
      "66 \t389   \t1769\t1566\t1570.58\t27.1915\n",
      "67 \t382   \t1901\t1566\t1570.12\t27.892 \n",
      "68 \t409   \t1769\t1566\t1569.88\t24.3093\n",
      "69 \t384   \t1877\t1566\t1570.17\t26.5673\n",
      "70 \t379   \t1769\t1566\t1570.23\t25.8284\n",
      "71 \t401   \t1767\t1566\t1570.02\t22.5915\n",
      "72 \t413   \t1769\t1566\t1569.9 \t25.58  \n",
      "73 \t395   \t1767\t1566\t1569.97\t23.5199\n",
      "74 \t383   \t1769\t1566\t1571   \t25.8001\n",
      "75 \t392   \t1769\t1566\t1568.82\t19.4595\n",
      "76 \t414   \t1817\t1566\t1568.83\t21.1622\n",
      "77 \t408   \t1767\t1566\t1567.55\t14.7154\n",
      "78 \t396   \t1767\t1566\t1569.33\t22.7601\n",
      "79 \t397   \t1769\t1566\t1569.74\t23.0786\n",
      "80 \t376   \t1769\t1566\t1569.05\t20.1203\n",
      "81 \t379   \t1769\t1566\t1570.57\t24.9188\n",
      "82 \t393   \t1769\t1566\t1571.34\t28.2626\n",
      "83 \t401   \t1767\t1566\t1567.22\t11.9372\n",
      "84 \t400   \t1861\t1566\t1572.24\t33.6109\n",
      "85 \t411   \t1981\t1566\t1570.91\t31.3496\n",
      "86 \t386   \t1764\t1566\t1569.16\t22.2419\n",
      "87 \t409   \t1917\t1566\t1572.35\t34.0101\n",
      "88 \t395   \t1901\t1566\t1568.66\t21.3244\n",
      "89 \t369   \t1769\t1566\t1571.23\t26.64  \n",
      "90 \t406   \t1840\t1566\t1570.36\t26.4715\n",
      "91 \t402   \t1769\t1566\t1571.22\t27.4676\n",
      "92 \t388   \t1767\t1566\t1571.07\t28.4032\n",
      "93 \t393   \t1769\t1566\t1568.18\t17.8526\n",
      "94 \t389   \t1804\t1566\t1568.29\t18.4479\n",
      "95 \t400   \t1767\t1566\t1569.08\t20.7481\n",
      "96 \t401   \t1767\t1566\t1569.08\t21.5532\n",
      "97 \t390   \t1773\t1566\t1568.81\t21.0727\n",
      "98 \t422   \t1883\t1566\t1569.93\t26.7141\n",
      "99 \t390   \t1769\t1566\t1569.54\t21.7123\n",
      "100\t418   \t1767\t1566\t1568.21\t19.3421\n"
     ]
    }
   ],
   "source": [
    "toolbox = base.Toolbox()\n",
    "\n",
    "creator.create('FitnessMin', base.Fitness, weights=(-1.0,))\n",
    "creator.create('Individual', list, fitness=creator.FitnessMin)\n",
    "\n",
    "toolbox.register('attr_int', random.randint, a=0, b=9)\n",
    "toolbox.register('individual', tools.initRepeat, creator.Individual, toolbox.attr_int, n=12)\n",
    "toolbox.register('population', tools.initRepeat, list, toolbox.individual)\n",
    "toolbox.register('evaluate', fitness_function_deap)\n",
    "toolbox.register('mate', tools.cxOnePoint)\n",
    "toolbox.register('mutate', tools.mutFlipBit, indpb = 0.01)\n",
    "toolbox.register('select', tools.selTournament, tournsize=3)\n",
    "\n",
    "population = toolbox.population(n = 500)\n",
    "crossover_probability = 0.7\n",
    "mutation_probability = 0.3\n",
    "number_of_generations = 100\n",
    "\n",
    "statistics = tools.Statistics(key=lambda individual: individual.fitness.values)\n",
    "statistics.register(\"max\", numpy.max)\n",
    "statistics.register(\"min\", numpy.min)\n",
    "statistics.register(\"med\", numpy.mean)\n",
    "statistics.register(\"std\", numpy.std)\n",
    "\n",
    "population, info = algorithms.eaSimple(population, toolbox,\n",
    "                                       crossover_probability, mutation_probability,\n",
    "                                       number_of_generations, statistics)"
   ]
  },
  {
   "cell_type": "code",
   "execution_count": 208,
   "metadata": {
    "colab": {
     "base_uri": "https://localhost:8080/"
    },
    "id": "HzETgCvZUZor",
    "outputId": "17ded8ee-f6f6-4a6f-bdd5-70f933a8823f"
   },
   "outputs": [
    {
     "name": "stdout",
     "output_type": "stream",
     "text": [
      "[2, 6, 5, 7, 8, 1, 3, 6, 0, 2, 9, 1]\n",
      "(1566.0,)\n",
      "FCO\n",
      "    Lisbon       LIS  9:15-12:03  99 15:07-17:21 129\n",
      "    Madrid       MAD 14:22-16:32 126 17:06-20:00  95\n",
      "     Paris       CDG 18:23-21:35 134  8:23-11:07 143\n",
      "    Dublin       DUB 11:16-13:29  83 15:25-16:58  62\n",
      "  Brussels       BRU  6:12-10:22 230  9:49-13:51 229\n",
      "    London       LHR 20:30-23:11 114  8:19-11:16 122\n",
      "Total price: 1566\n"
     ]
    }
   ],
   "source": [
    "best_solution = tools.selBest(population, 1)\n",
    "for individual in best_solution:\n",
    "    print(individual)\n",
    "    print(individual.fitness)\n",
    "    print_schedule(individual)  "
   ]
  },
  {
   "cell_type": "code",
   "execution_count": 242,
   "metadata": {
    "colab": {
     "base_uri": "https://localhost:8080/"
    },
    "id": "BDBITTVfUmqy",
    "outputId": "b5932464-009d-41bf-96d5-86c04f9cb904"
   },
   "outputs": [
    {
     "data": {
      "text/plain": [
       "[2102.0,\n",
       " 1993.0,\n",
       " 1973.0,\n",
       " 1805.0,\n",
       " 1840.0,\n",
       " 1763.0,\n",
       " 1726.0,\n",
       " 1690.0,\n",
       " 1678.0,\n",
       " 1643.0,\n",
       " 1586.0,\n",
       " 1586.0,\n",
       " 1586.0,\n",
       " 1573.0,\n",
       " 1566.0,\n",
       " 1566.0,\n",
       " 1566.0,\n",
       " 1566.0,\n",
       " 1566.0,\n",
       " 1566.0,\n",
       " 1566.0,\n",
       " 1566.0,\n",
       " 1566.0,\n",
       " 1566.0,\n",
       " 1566.0,\n",
       " 1566.0,\n",
       " 1566.0,\n",
       " 1566.0,\n",
       " 1566.0,\n",
       " 1566.0,\n",
       " 1566.0,\n",
       " 1566.0,\n",
       " 1566.0,\n",
       " 1566.0,\n",
       " 1566.0,\n",
       " 1566.0,\n",
       " 1566.0,\n",
       " 1566.0,\n",
       " 1566.0,\n",
       " 1566.0,\n",
       " 1566.0,\n",
       " 1566.0,\n",
       " 1566.0,\n",
       " 1566.0,\n",
       " 1566.0,\n",
       " 1566.0,\n",
       " 1566.0,\n",
       " 1566.0,\n",
       " 1566.0,\n",
       " 1566.0,\n",
       " 1566.0,\n",
       " 1566.0,\n",
       " 1566.0,\n",
       " 1566.0,\n",
       " 1566.0,\n",
       " 1566.0,\n",
       " 1566.0,\n",
       " 1566.0,\n",
       " 1566.0,\n",
       " 1566.0,\n",
       " 1566.0,\n",
       " 1566.0,\n",
       " 1566.0,\n",
       " 1566.0,\n",
       " 1566.0,\n",
       " 1566.0,\n",
       " 1566.0,\n",
       " 1566.0,\n",
       " 1566.0,\n",
       " 1566.0,\n",
       " 1566.0,\n",
       " 1566.0,\n",
       " 1566.0,\n",
       " 1566.0,\n",
       " 1566.0,\n",
       " 1566.0,\n",
       " 1566.0,\n",
       " 1566.0,\n",
       " 1566.0,\n",
       " 1566.0,\n",
       " 1566.0,\n",
       " 1566.0,\n",
       " 1566.0,\n",
       " 1566.0,\n",
       " 1566.0,\n",
       " 1566.0,\n",
       " 1566.0,\n",
       " 1566.0,\n",
       " 1566.0,\n",
       " 1566.0,\n",
       " 1566.0,\n",
       " 1566.0,\n",
       " 1566.0,\n",
       " 1566.0,\n",
       " 1566.0,\n",
       " 1566.0,\n",
       " 1566.0,\n",
       " 1566.0,\n",
       " 1566.0,\n",
       " 1566.0,\n",
       " 1566.0]"
      ]
     },
     "execution_count": 242,
     "metadata": {},
     "output_type": "execute_result"
    }
   ],
   "source": [
    "info.select(\"min\")"
   ]
  },
  {
   "cell_type": "code",
   "execution_count": 239,
   "metadata": {},
   "outputs": [
    {
     "data": {
      "application/vnd.plotly.v1+json": {
       "config": {
        "plotlyServerURL": "https://plot.ly"
       },
       "data": [
        {
         "hovertemplate": "x=%{x}<br>y=%{y}<extra></extra>",
         "legendgroup": "",
         "line": {
          "color": "#636efa",
          "dash": "solid"
         },
         "marker": {
          "symbol": "circle"
         },
         "mode": "lines",
         "name": "",
         "orientation": "v",
         "showlegend": false,
         "type": "scatter",
         "x": [
          0,
          1,
          2,
          3,
          4,
          5,
          6,
          7,
          8,
          9,
          10,
          11,
          12,
          13,
          14,
          15,
          16,
          17,
          18,
          19,
          20,
          21,
          22,
          23,
          24,
          25,
          26,
          27,
          28,
          29,
          30,
          31,
          32,
          33,
          34,
          35,
          36,
          37,
          38,
          39,
          40,
          41,
          42,
          43,
          44,
          45,
          46,
          47,
          48,
          49,
          50,
          51,
          52,
          53,
          54,
          55,
          56,
          57,
          58,
          59,
          60,
          61,
          62,
          63,
          64,
          65,
          66,
          67,
          68,
          69,
          70,
          71,
          72,
          73,
          74,
          75,
          76,
          77,
          78,
          79,
          80,
          81,
          82,
          83,
          84,
          85,
          86,
          87,
          88,
          89,
          90,
          91,
          92,
          93,
          94,
          95,
          96,
          97,
          98,
          99,
          100
         ],
         "xaxis": "x",
         "y": [
          2102,
          1993,
          1973,
          1805,
          1840,
          1763,
          1726,
          1690,
          1678,
          1643,
          1586,
          1586,
          1586,
          1573,
          1566,
          1566,
          1566,
          1566,
          1566,
          1566,
          1566,
          1566,
          1566,
          1566,
          1566,
          1566,
          1566,
          1566,
          1566,
          1566,
          1566,
          1566,
          1566,
          1566,
          1566,
          1566,
          1566,
          1566,
          1566,
          1566,
          1566,
          1566,
          1566,
          1566,
          1566,
          1566,
          1566,
          1566,
          1566,
          1566,
          1566,
          1566,
          1566,
          1566,
          1566,
          1566,
          1566,
          1566,
          1566,
          1566,
          1566,
          1566,
          1566,
          1566,
          1566,
          1566,
          1566,
          1566,
          1566,
          1566,
          1566,
          1566,
          1566,
          1566,
          1566,
          1566,
          1566,
          1566,
          1566,
          1566,
          1566,
          1566,
          1566,
          1566,
          1566,
          1566,
          1566,
          1566,
          1566,
          1566,
          1566,
          1566,
          1566,
          1566,
          1566,
          1566,
          1566,
          1566,
          1566,
          1566,
          1566
         ],
         "yaxis": "y"
        }
       ],
       "layout": {
        "legend": {
         "tracegroupgap": 0
        },
        "template": {
         "data": {
          "bar": [
           {
            "error_x": {
             "color": "#2a3f5f"
            },
            "error_y": {
             "color": "#2a3f5f"
            },
            "marker": {
             "line": {
              "color": "#E5ECF6",
              "width": 0.5
             },
             "pattern": {
              "fillmode": "overlay",
              "size": 10,
              "solidity": 0.2
             }
            },
            "type": "bar"
           }
          ],
          "barpolar": [
           {
            "marker": {
             "line": {
              "color": "#E5ECF6",
              "width": 0.5
             },
             "pattern": {
              "fillmode": "overlay",
              "size": 10,
              "solidity": 0.2
             }
            },
            "type": "barpolar"
           }
          ],
          "carpet": [
           {
            "aaxis": {
             "endlinecolor": "#2a3f5f",
             "gridcolor": "white",
             "linecolor": "white",
             "minorgridcolor": "white",
             "startlinecolor": "#2a3f5f"
            },
            "baxis": {
             "endlinecolor": "#2a3f5f",
             "gridcolor": "white",
             "linecolor": "white",
             "minorgridcolor": "white",
             "startlinecolor": "#2a3f5f"
            },
            "type": "carpet"
           }
          ],
          "choropleth": [
           {
            "colorbar": {
             "outlinewidth": 0,
             "ticks": ""
            },
            "type": "choropleth"
           }
          ],
          "contour": [
           {
            "colorbar": {
             "outlinewidth": 0,
             "ticks": ""
            },
            "colorscale": [
             [
              0,
              "#0d0887"
             ],
             [
              0.1111111111111111,
              "#46039f"
             ],
             [
              0.2222222222222222,
              "#7201a8"
             ],
             [
              0.3333333333333333,
              "#9c179e"
             ],
             [
              0.4444444444444444,
              "#bd3786"
             ],
             [
              0.5555555555555556,
              "#d8576b"
             ],
             [
              0.6666666666666666,
              "#ed7953"
             ],
             [
              0.7777777777777778,
              "#fb9f3a"
             ],
             [
              0.8888888888888888,
              "#fdca26"
             ],
             [
              1,
              "#f0f921"
             ]
            ],
            "type": "contour"
           }
          ],
          "contourcarpet": [
           {
            "colorbar": {
             "outlinewidth": 0,
             "ticks": ""
            },
            "type": "contourcarpet"
           }
          ],
          "heatmap": [
           {
            "colorbar": {
             "outlinewidth": 0,
             "ticks": ""
            },
            "colorscale": [
             [
              0,
              "#0d0887"
             ],
             [
              0.1111111111111111,
              "#46039f"
             ],
             [
              0.2222222222222222,
              "#7201a8"
             ],
             [
              0.3333333333333333,
              "#9c179e"
             ],
             [
              0.4444444444444444,
              "#bd3786"
             ],
             [
              0.5555555555555556,
              "#d8576b"
             ],
             [
              0.6666666666666666,
              "#ed7953"
             ],
             [
              0.7777777777777778,
              "#fb9f3a"
             ],
             [
              0.8888888888888888,
              "#fdca26"
             ],
             [
              1,
              "#f0f921"
             ]
            ],
            "type": "heatmap"
           }
          ],
          "heatmapgl": [
           {
            "colorbar": {
             "outlinewidth": 0,
             "ticks": ""
            },
            "colorscale": [
             [
              0,
              "#0d0887"
             ],
             [
              0.1111111111111111,
              "#46039f"
             ],
             [
              0.2222222222222222,
              "#7201a8"
             ],
             [
              0.3333333333333333,
              "#9c179e"
             ],
             [
              0.4444444444444444,
              "#bd3786"
             ],
             [
              0.5555555555555556,
              "#d8576b"
             ],
             [
              0.6666666666666666,
              "#ed7953"
             ],
             [
              0.7777777777777778,
              "#fb9f3a"
             ],
             [
              0.8888888888888888,
              "#fdca26"
             ],
             [
              1,
              "#f0f921"
             ]
            ],
            "type": "heatmapgl"
           }
          ],
          "histogram": [
           {
            "marker": {
             "pattern": {
              "fillmode": "overlay",
              "size": 10,
              "solidity": 0.2
             }
            },
            "type": "histogram"
           }
          ],
          "histogram2d": [
           {
            "colorbar": {
             "outlinewidth": 0,
             "ticks": ""
            },
            "colorscale": [
             [
              0,
              "#0d0887"
             ],
             [
              0.1111111111111111,
              "#46039f"
             ],
             [
              0.2222222222222222,
              "#7201a8"
             ],
             [
              0.3333333333333333,
              "#9c179e"
             ],
             [
              0.4444444444444444,
              "#bd3786"
             ],
             [
              0.5555555555555556,
              "#d8576b"
             ],
             [
              0.6666666666666666,
              "#ed7953"
             ],
             [
              0.7777777777777778,
              "#fb9f3a"
             ],
             [
              0.8888888888888888,
              "#fdca26"
             ],
             [
              1,
              "#f0f921"
             ]
            ],
            "type": "histogram2d"
           }
          ],
          "histogram2dcontour": [
           {
            "colorbar": {
             "outlinewidth": 0,
             "ticks": ""
            },
            "colorscale": [
             [
              0,
              "#0d0887"
             ],
             [
              0.1111111111111111,
              "#46039f"
             ],
             [
              0.2222222222222222,
              "#7201a8"
             ],
             [
              0.3333333333333333,
              "#9c179e"
             ],
             [
              0.4444444444444444,
              "#bd3786"
             ],
             [
              0.5555555555555556,
              "#d8576b"
             ],
             [
              0.6666666666666666,
              "#ed7953"
             ],
             [
              0.7777777777777778,
              "#fb9f3a"
             ],
             [
              0.8888888888888888,
              "#fdca26"
             ],
             [
              1,
              "#f0f921"
             ]
            ],
            "type": "histogram2dcontour"
           }
          ],
          "mesh3d": [
           {
            "colorbar": {
             "outlinewidth": 0,
             "ticks": ""
            },
            "type": "mesh3d"
           }
          ],
          "parcoords": [
           {
            "line": {
             "colorbar": {
              "outlinewidth": 0,
              "ticks": ""
             }
            },
            "type": "parcoords"
           }
          ],
          "pie": [
           {
            "automargin": true,
            "type": "pie"
           }
          ],
          "scatter": [
           {
            "fillpattern": {
             "fillmode": "overlay",
             "size": 10,
             "solidity": 0.2
            },
            "type": "scatter"
           }
          ],
          "scatter3d": [
           {
            "line": {
             "colorbar": {
              "outlinewidth": 0,
              "ticks": ""
             }
            },
            "marker": {
             "colorbar": {
              "outlinewidth": 0,
              "ticks": ""
             }
            },
            "type": "scatter3d"
           }
          ],
          "scattercarpet": [
           {
            "marker": {
             "colorbar": {
              "outlinewidth": 0,
              "ticks": ""
             }
            },
            "type": "scattercarpet"
           }
          ],
          "scattergeo": [
           {
            "marker": {
             "colorbar": {
              "outlinewidth": 0,
              "ticks": ""
             }
            },
            "type": "scattergeo"
           }
          ],
          "scattergl": [
           {
            "marker": {
             "colorbar": {
              "outlinewidth": 0,
              "ticks": ""
             }
            },
            "type": "scattergl"
           }
          ],
          "scattermapbox": [
           {
            "marker": {
             "colorbar": {
              "outlinewidth": 0,
              "ticks": ""
             }
            },
            "type": "scattermapbox"
           }
          ],
          "scatterpolar": [
           {
            "marker": {
             "colorbar": {
              "outlinewidth": 0,
              "ticks": ""
             }
            },
            "type": "scatterpolar"
           }
          ],
          "scatterpolargl": [
           {
            "marker": {
             "colorbar": {
              "outlinewidth": 0,
              "ticks": ""
             }
            },
            "type": "scatterpolargl"
           }
          ],
          "scatterternary": [
           {
            "marker": {
             "colorbar": {
              "outlinewidth": 0,
              "ticks": ""
             }
            },
            "type": "scatterternary"
           }
          ],
          "surface": [
           {
            "colorbar": {
             "outlinewidth": 0,
             "ticks": ""
            },
            "colorscale": [
             [
              0,
              "#0d0887"
             ],
             [
              0.1111111111111111,
              "#46039f"
             ],
             [
              0.2222222222222222,
              "#7201a8"
             ],
             [
              0.3333333333333333,
              "#9c179e"
             ],
             [
              0.4444444444444444,
              "#bd3786"
             ],
             [
              0.5555555555555556,
              "#d8576b"
             ],
             [
              0.6666666666666666,
              "#ed7953"
             ],
             [
              0.7777777777777778,
              "#fb9f3a"
             ],
             [
              0.8888888888888888,
              "#fdca26"
             ],
             [
              1,
              "#f0f921"
             ]
            ],
            "type": "surface"
           }
          ],
          "table": [
           {
            "cells": {
             "fill": {
              "color": "#EBF0F8"
             },
             "line": {
              "color": "white"
             }
            },
            "header": {
             "fill": {
              "color": "#C8D4E3"
             },
             "line": {
              "color": "white"
             }
            },
            "type": "table"
           }
          ]
         },
         "layout": {
          "annotationdefaults": {
           "arrowcolor": "#2a3f5f",
           "arrowhead": 0,
           "arrowwidth": 1
          },
          "autotypenumbers": "strict",
          "coloraxis": {
           "colorbar": {
            "outlinewidth": 0,
            "ticks": ""
           }
          },
          "colorscale": {
           "diverging": [
            [
             0,
             "#8e0152"
            ],
            [
             0.1,
             "#c51b7d"
            ],
            [
             0.2,
             "#de77ae"
            ],
            [
             0.3,
             "#f1b6da"
            ],
            [
             0.4,
             "#fde0ef"
            ],
            [
             0.5,
             "#f7f7f7"
            ],
            [
             0.6,
             "#e6f5d0"
            ],
            [
             0.7,
             "#b8e186"
            ],
            [
             0.8,
             "#7fbc41"
            ],
            [
             0.9,
             "#4d9221"
            ],
            [
             1,
             "#276419"
            ]
           ],
           "sequential": [
            [
             0,
             "#0d0887"
            ],
            [
             0.1111111111111111,
             "#46039f"
            ],
            [
             0.2222222222222222,
             "#7201a8"
            ],
            [
             0.3333333333333333,
             "#9c179e"
            ],
            [
             0.4444444444444444,
             "#bd3786"
            ],
            [
             0.5555555555555556,
             "#d8576b"
            ],
            [
             0.6666666666666666,
             "#ed7953"
            ],
            [
             0.7777777777777778,
             "#fb9f3a"
            ],
            [
             0.8888888888888888,
             "#fdca26"
            ],
            [
             1,
             "#f0f921"
            ]
           ],
           "sequentialminus": [
            [
             0,
             "#0d0887"
            ],
            [
             0.1111111111111111,
             "#46039f"
            ],
            [
             0.2222222222222222,
             "#7201a8"
            ],
            [
             0.3333333333333333,
             "#9c179e"
            ],
            [
             0.4444444444444444,
             "#bd3786"
            ],
            [
             0.5555555555555556,
             "#d8576b"
            ],
            [
             0.6666666666666666,
             "#ed7953"
            ],
            [
             0.7777777777777778,
             "#fb9f3a"
            ],
            [
             0.8888888888888888,
             "#fdca26"
            ],
            [
             1,
             "#f0f921"
            ]
           ]
          },
          "colorway": [
           "#636efa",
           "#EF553B",
           "#00cc96",
           "#ab63fa",
           "#FFA15A",
           "#19d3f3",
           "#FF6692",
           "#B6E880",
           "#FF97FF",
           "#FECB52"
          ],
          "font": {
           "color": "#2a3f5f"
          },
          "geo": {
           "bgcolor": "white",
           "lakecolor": "white",
           "landcolor": "#E5ECF6",
           "showlakes": true,
           "showland": true,
           "subunitcolor": "white"
          },
          "hoverlabel": {
           "align": "left"
          },
          "hovermode": "closest",
          "mapbox": {
           "style": "light"
          },
          "paper_bgcolor": "white",
          "plot_bgcolor": "#E5ECF6",
          "polar": {
           "angularaxis": {
            "gridcolor": "white",
            "linecolor": "white",
            "ticks": ""
           },
           "bgcolor": "#E5ECF6",
           "radialaxis": {
            "gridcolor": "white",
            "linecolor": "white",
            "ticks": ""
           }
          },
          "scene": {
           "xaxis": {
            "backgroundcolor": "#E5ECF6",
            "gridcolor": "white",
            "gridwidth": 2,
            "linecolor": "white",
            "showbackground": true,
            "ticks": "",
            "zerolinecolor": "white"
           },
           "yaxis": {
            "backgroundcolor": "#E5ECF6",
            "gridcolor": "white",
            "gridwidth": 2,
            "linecolor": "white",
            "showbackground": true,
            "ticks": "",
            "zerolinecolor": "white"
           },
           "zaxis": {
            "backgroundcolor": "#E5ECF6",
            "gridcolor": "white",
            "gridwidth": 2,
            "linecolor": "white",
            "showbackground": true,
            "ticks": "",
            "zerolinecolor": "white"
           }
          },
          "shapedefaults": {
           "line": {
            "color": "#2a3f5f"
           }
          },
          "ternary": {
           "aaxis": {
            "gridcolor": "white",
            "linecolor": "white",
            "ticks": ""
           },
           "baxis": {
            "gridcolor": "white",
            "linecolor": "white",
            "ticks": ""
           },
           "bgcolor": "#E5ECF6",
           "caxis": {
            "gridcolor": "white",
            "linecolor": "white",
            "ticks": ""
           }
          },
          "title": {
           "x": 0.05
          },
          "xaxis": {
           "automargin": true,
           "gridcolor": "white",
           "linecolor": "white",
           "ticks": "",
           "title": {
            "standoff": 15
           },
           "zerolinecolor": "white",
           "zerolinewidth": 2
          },
          "yaxis": {
           "automargin": true,
           "gridcolor": "white",
           "linecolor": "white",
           "ticks": "",
           "title": {
            "standoff": 15
           },
           "zerolinecolor": "white",
           "zerolinewidth": 2
          }
         }
        },
        "title": {
         "text": "Genetic algorithm results (Flight Schedule)"
        },
        "xaxis": {
         "anchor": "y",
         "domain": [
          0,
          1
         ],
         "title": {
          "text": "x"
         }
        },
        "yaxis": {
         "anchor": "x",
         "domain": [
          0,
          1
         ],
         "title": {
          "text": "y"
         }
        }
       }
      }
     },
     "metadata": {},
     "output_type": "display_data"
    }
   ],
   "source": [
    "import plotly.express as px\n",
    "\n",
    "figure = px.line(\n",
    "    x=range(0, 101), y=info.select(\"min\"), title=\"Genetic algorithm results (Flight Schedule)\"\n",
    ")\n",
    "figure.show()"
   ]
  },
  {
   "cell_type": "markdown",
   "metadata": {
    "id": "rpET-c0qVFsk"
   },
   "source": [
    "### MLROSe library - Flight schedule"
   ]
  },
  {
   "cell_type": "code",
   "execution_count": 218,
   "metadata": {
    "id": "6p39A80MPgIr"
   },
   "outputs": [],
   "source": [
    "def fitness_function_mlrose(schedule):\n",
    "  flight_id = -1\n",
    "  total_price = 0\n",
    "  \n",
    "  for i in range(0, 6):\n",
    "    origin = people[i][1]\n",
    "    flight_id += 1\n",
    "    going = flights[(origin, destiny)][schedule[flight_id]]\n",
    "    total_price += going[2]\n",
    "    flight_id += 1\n",
    "    returning = flights[(destiny, origin)][schedule[flight_id]]\n",
    "    total_price += returning[2]\n",
    "\n",
    "  return total_price"
   ]
  },
  {
   "cell_type": "code",
   "execution_count": 219,
   "metadata": {
    "id": "KnezqxvcVGjd"
   },
   "outputs": [],
   "source": [
    "fitness = mlrose.CustomFitness(fitness_function_mlrose)"
   ]
  },
  {
   "cell_type": "code",
   "execution_count": 235,
   "metadata": {
    "id": "saTykP9BVSXZ"
   },
   "outputs": [],
   "source": [
    "problem = mlrose.DiscreteOpt(length=12, fitness_fn=fitness, maximize = True, max_val=10) # 0 - 9"
   ]
  },
  {
   "cell_type": "code",
   "execution_count": 236,
   "metadata": {
    "colab": {
     "base_uri": "https://localhost:8080/"
    },
    "id": "YzW6Y20jVlwj",
    "outputId": "526deb31-dfa5-40f5-a82c-04245b655b0b"
   },
   "outputs": [
    {
     "data": {
      "text/plain": [
       "(array([4, 0, 3, 4, 0, 8, 7, 9, 9, 4, 7, 7]), 3330.0)"
      ]
     },
     "execution_count": 236,
     "metadata": {},
     "output_type": "execute_result"
    }
   ],
   "source": [
    "best_solution, best_fitness = mlrose.genetic_alg(problem, pop_size=500, mutation_prob=0.3)\n",
    "\n",
    "best_solution, best_fitness"
   ]
  },
  {
   "cell_type": "code",
   "execution_count": 237,
   "metadata": {
    "colab": {
     "base_uri": "https://localhost:8080/"
    },
    "id": "L1ntOcYKV4Sj",
    "outputId": "fc0cc797-4e92-4cc3-83bb-cd218b29b5c6"
   },
   "outputs": [
    {
     "name": "stdout",
     "output_type": "stream",
     "text": [
      "FCO\n",
      "    Lisbon       LIS 12:18-14:56 172  6:19- 8:13 239\n",
      "    Madrid       MAD 11:01-12:39 260 12:08-14:47 231\n",
      "     Paris       CDG  6:25- 9:30 335 18:07-21:30 355\n",
      "    Dublin       DUB 17:11-18:30 108 19:58-21:23 142\n",
      "  Brussels       BRU 20:07-23:27 473 12:20-16:34 500\n",
      "    London       LHR 17:08-19:08 262 16:33-18:15 253\n",
      "Total price: 3330\n"
     ]
    }
   ],
   "source": [
    "print_schedule(best_solution)"
   ]
  }
 ],
 "metadata": {
  "colab": {
   "provenance": []
  },
  "kernelspec": {
   "display_name": "Python 3 (ipykernel)",
   "language": "python",
   "name": "python3"
  },
  "language_info": {
   "codemirror_mode": {
    "name": "ipython",
    "version": 3
   },
   "file_extension": ".py",
   "mimetype": "text/x-python",
   "name": "python",
   "nbconvert_exporter": "python",
   "pygments_lexer": "ipython3",
   "version": "3.12.3"
  }
 },
 "nbformat": 4,
 "nbformat_minor": 4
}
